{
 "cells": [
  {
   "cell_type": "markdown",
   "metadata": {},
   "source": [
    "# Exploratory Data Analysis Using Python : `IPL (2008-2020)`\n",
    "IPL (Indian Premier League) dataset 2008-2019 has beentaken from https://www.kaggle.com/patrickb1912/ipl-complete-dataset-20082020 .This dataset consists of two seperate CSV files for matches and deliveries. These files contain the information of each match summary and ball by ball details, respectively. `For analysis both former and current teams have been considered and Hidden Insights has been found considering all the matches played till 2020.`\n",
    "<img src=\"https://wallpapercave.com/wp/wp4059913.jpg\" style=\"width:700px;height:300px\"/>\n",
    "[source](https://wallpapercave.com/wp/wp4059913.jpg)\n",
    "\n",
    "IPL is a professional Twenty20 cricket league in India usually contested between March and May of every year by eight teams representing eight different cities or states in India.The league was founded by the Board of Control for Cricket in India (BCCI) in 2007. To read more ([view](https://en.wikipedia.org/wiki/Indian_Premier_League))\n",
    "\n",
    "`Current Teams` : Chennai Super Kings, Delhi Capitals & Delhi Daredevils are same, Kings XI Punjab, Kolkata Knight Riders, Mumbai Indians,\tRajasthan Royals, Royal Challengers Bangalore, Sunrisers Hyderabad.\n",
    "<img src=\"https://d28wu8o6itv89t.cloudfront.net/images/IPLpng-1597936417382.png\" style=\"width:700px;height:300px\"/>\n",
    "[Source](https://d28wu8o6itv89t.cloudfront.net/images/IPLpng-1597936417382.png)\n",
    "\n",
    "`Former teams` : Deccan Chargers, Kochi Tuskers Kerala, Pune Warriors India, Rising Pune Supergiant, Gujarat Lions\n",
    "\n",
    "\n",
    "These are some helper libraries in Python for data analysis and visualization.Learned from [Data Analysis with Python: Zero to Pandas](zerotopandas.com), the course  have assignments dedicated for the practice along with the jupyter notebooks used while teaching for better understanding and experimentation.It also has has active and supportive community forums for clearing the queries. Good option for beginners to kick start."
   ]
  },
  {
   "cell_type": "markdown",
   "metadata": {},
   "source": [
    "## `Table of Content`\n",
    "\n",
    "---\n",
    "\n",
    "###  **`1. Downloading the Dataset`**\n",
    ">1. **Installing opndatasets helper library**\n",
    ">2. **Saving dataset url**\n",
    ">3. **Import `opendatasets` and `operating system` libraries**\n",
    ">4. **Downloading dataset**\n",
    ">5. **View downloaded files**\n",
    "\n",
    "### **2.`Data Preparation and Cleaning`**\n",
    ">1. **Import `Pandas`**\n",
    ">2. **Load IPL Ball-by-Ball 2008-2020.csv**\n",
    ">3. **Check datatype of the loaded dataset**\n",
    ">4. **View Columns**\n",
    ">5. **Filter unwanted columns**\n",
    ">6. **View 10 random rows**\n",
    ">7. **Load IPL Matches 2008-2020.csv**\n",
    ">8. **View Columns**\n",
    ">9. **View content of columns**\n",
    ">10. **change 'Delhi Daredevils' to its present name 'Delhi Capitals'  and also there is typo in 'Rising Pune Supergiants' has extra 's' in last instead of 'Rising Pune Supergiant'**\n",
    ">11. **Dealing with NAN values**\n",
    ">12. **Creating dataframe with interested columns**\n",
    ">13. **Check info of the dataframe**\n",
    ">14. **Change datatype of date column from 'object' to 'date'**\n",
    ">15. **Add a weekday, month and  year columns**\n",
    ">16. **Drop date column**\n",
    ">17. **Check shape of the prepared dataframe**\n",
    ">18. **Check 10 random rows of dataframe ready for analysis**\n",
    "\n",
    "### `3.Exploratory Analysis and Visualization`\n",
    ">1. **Import helper librabries `matplotlib.pyplot`, `seaborn` and `numpy` for visualization**\n",
    ">2. **Rename some columns**\n",
    ">3. **Check nunmber of matches won by individual team**\n",
    ">4. **Top 3 cities**\n",
    ">5. **Top 3 stadiums**\n",
    ">6. **Matches played in respective Year**\n",
    ">7. **Matches played in respective Months**\n",
    "\n",
    "### `4. Asking and Answering Questions`\n",
    ">1. **Win the Toss, Win the Match**\n",
    ">2. **king of boundaries**\n",
    ">3. **Luckiest Stadium for Mumbai Indians**\n",
    ">4. **Wicket King**\n",
    ">5. **Max matches won, CSK VS MI**\n",
    ">6. **Player of the Match**\n",
    ">7. **2020 : Top 10 Boundary rivals**\n",
    "\n",
    "### `5. Hidden Insights`\n",
    "\n",
    "### `6. References`"
   ]
  },
  {
   "cell_type": "markdown",
   "metadata": {},
   "source": [
    "## `For analysis we'll take help of following libraries` :\n",
    "\n",
    "---\n",
    "\n",
    "> - opendasets\n",
    "> - os\n",
    "> - pandas\n",
    "> - numpy\n",
    "> - matplotlib\n",
    "> - matplotlib.pyplot\n",
    "> - seaborn"
   ]
  },
  {
   "cell_type": "markdown",
   "metadata": {},
   "source": [
    "## `1.Downloading the Dataset`\n",
    "\n",
    "---\n",
    "\n",
    "\n",
    "**1.1 We'll use the opendatasets helper library to download the files.**\n",
    "   "
   ]
  },
  {
   "cell_type": "code",
   "execution_count": 1,
   "metadata": {},
   "outputs": [],
   "source": [
    "!pip install jovian opendatasets --upgrade --quiet"
   ]
  },
  {
   "cell_type": "markdown",
   "metadata": {},
   "source": [
    "**1.2 saving dataset URL**"
   ]
  },
  {
   "cell_type": "code",
   "execution_count": 2,
   "metadata": {},
   "outputs": [],
   "source": [
    "dataset_url = 'https://www.kaggle.com/patrickb1912/ipl-complete-dataset-20082020' "
   ]
  },
  {
   "cell_type": "markdown",
   "metadata": {},
   "source": [
    "**1.3 Importing opendatasets and operating system libraries**"
   ]
  },
  {
   "cell_type": "code",
   "execution_count": null,
   "metadata": {},
   "outputs": [],
   "source": [
    "import opendatasets as od\n",
    "import os"
   ]
  },
  {
   "cell_type": "markdown",
   "metadata": {},
   "source": [
    "**1.4 Downloading dataset**"
   ]
  },
  {
   "cell_type": "code",
   "execution_count": 3,
   "metadata": {},
   "outputs": [
    {
     "name": "stdout",
     "output_type": "stream",
     "text": [
      "Please provide your Kaggle credentials to download this dataset. Learn more: http://bit.ly/kaggle-creds\n",
      "Your Kaggle username: bt18civ088omprakash\n",
      "Your Kaggle Key: ········\n"
     ]
    },
    {
     "name": "stderr",
     "output_type": "stream",
     "text": [
      "100%|██████████| 1.37M/1.37M [00:00<00:00, 26.5MB/s]"
     ]
    },
    {
     "name": "stdout",
     "output_type": "stream",
     "text": [
      "Downloading ipl-complete-dataset-20082020.zip to ./ipl-complete-dataset-20082020\n",
      "\n"
     ]
    },
    {
     "name": "stderr",
     "output_type": "stream",
     "text": [
      "\n"
     ]
    }
   ],
   "source": [
    "os.makedirs('./ipl-complete-dataset-20082020', exist_ok = True)\n",
    "od.download(dataset_url)"
   ]
  },
  {
   "cell_type": "markdown",
   "metadata": {},
   "source": [
    "**The dataset has been downloaded and extracted.**"
   ]
  },
  {
   "cell_type": "code",
   "execution_count": 4,
   "metadata": {},
   "outputs": [],
   "source": [
    "data_dir = './ipl-complete-dataset-20082020'"
   ]
  },
  {
   "cell_type": "markdown",
   "metadata": {},
   "source": [
    "**1.5 View downloaded data files**"
   ]
  },
  {
   "cell_type": "code",
   "execution_count": 5,
   "metadata": {},
   "outputs": [
    {
     "data": {
      "text/plain": [
       "['IPL Ball-by-Ball 2008-2020.csv', 'IPL Matches 2008-2020.csv']"
      ]
     },
     "execution_count": 5,
     "metadata": {},
     "output_type": "execute_result"
    }
   ],
   "source": [
    "os.listdir(data_dir)"
   ]
  },
  {
   "cell_type": "markdown",
   "metadata": {},
   "source": [
    "The dataset has got 2 csv files.\n",
    "\n",
    "---"
   ]
  },
  {
   "cell_type": "markdown",
   "metadata": {},
   "source": [
    "let's save it to Jovian"
   ]
  },
  {
   "cell_type": "code",
   "execution_count": 4,
   "metadata": {},
   "outputs": [
    {
     "data": {
      "application/javascript": [
       "window.require && require([\"base/js/namespace\"],function(Jupyter){Jupyter.notebook.save_checkpoint()})"
      ],
      "text/plain": [
       "<IPython.core.display.Javascript object>"
      ]
     },
     "metadata": {},
     "output_type": "display_data"
    },
    {
     "name": "stdout",
     "output_type": "stream",
     "text": [
      "[jovian] Attempting to save notebook..\u001b[0m\n",
      "[jovian] Updating notebook \"omprakashp014909/ipl-2008-2020-analysis\" on https://jovian.ai\u001b[0m\n",
      "[jovian] Uploading notebook..\u001b[0m\n",
      "[jovian] Uploading additional files...\u001b[0m\n",
      "[jovian] Committed successfully! https://jovian.ai/omprakashp014909/ipl-2008-2020-analysis\u001b[0m\n"
     ]
    },
    {
     "data": {
      "text/plain": [
       "'https://jovian.ai/omprakashp014909/ipl-2008-2020-analysis'"
      ]
     },
     "execution_count": 4,
     "metadata": {},
     "output_type": "execute_result"
    }
   ],
   "source": [
    "project_name = \"ipl (2008-2020) analysis\" \n",
    "import jovian\n",
    "jovian.commit(project=project_name)"
   ]
  },
  {
   "cell_type": "markdown",
   "metadata": {},
   "source": [
    "## `2.Data Preparation and Cleaning`\n",
    "---"
   ]
  },
  {
   "cell_type": "markdown",
   "metadata": {},
   "source": [
    "**2.1 Import Pandas**"
   ]
  },
  {
   "cell_type": "code",
   "execution_count": 1,
   "metadata": {},
   "outputs": [],
   "source": [
    "import pandas as pd"
   ]
  },
  {
   "cell_type": "markdown",
   "metadata": {},
   "source": [
    "**2.2 Let's load the CSV files using the Pandas library.File `IPL Ball-by-Ball 2008-2020.csv` as `ball_raw_df` to indicate this is unprocessed data that we might clean, filter, and modify to prepare a data frame ready for analysis. Also , lets set match id as index for it.**"
   ]
  },
  {
   "cell_type": "code",
   "execution_count": 6,
   "metadata": {},
   "outputs": [
    {
     "data": {
      "text/html": [
       "<div>\n",
       "<style scoped>\n",
       "    .dataframe tbody tr th:only-of-type {\n",
       "        vertical-align: middle;\n",
       "    }\n",
       "\n",
       "    .dataframe tbody tr th {\n",
       "        vertical-align: top;\n",
       "    }\n",
       "\n",
       "    .dataframe thead th {\n",
       "        text-align: right;\n",
       "    }\n",
       "</style>\n",
       "<table border=\"1\" class=\"dataframe\">\n",
       "  <thead>\n",
       "    <tr style=\"text-align: right;\">\n",
       "      <th></th>\n",
       "      <th>inning</th>\n",
       "      <th>over</th>\n",
       "      <th>ball</th>\n",
       "      <th>batsman</th>\n",
       "      <th>non_striker</th>\n",
       "      <th>bowler</th>\n",
       "      <th>batsman_runs</th>\n",
       "      <th>extra_runs</th>\n",
       "      <th>total_runs</th>\n",
       "      <th>non_boundary</th>\n",
       "      <th>is_wicket</th>\n",
       "      <th>dismissal_kind</th>\n",
       "      <th>player_dismissed</th>\n",
       "      <th>fielder</th>\n",
       "      <th>extras_type</th>\n",
       "      <th>batting_team</th>\n",
       "      <th>bowling_team</th>\n",
       "    </tr>\n",
       "    <tr>\n",
       "      <th>id</th>\n",
       "      <th></th>\n",
       "      <th></th>\n",
       "      <th></th>\n",
       "      <th></th>\n",
       "      <th></th>\n",
       "      <th></th>\n",
       "      <th></th>\n",
       "      <th></th>\n",
       "      <th></th>\n",
       "      <th></th>\n",
       "      <th></th>\n",
       "      <th></th>\n",
       "      <th></th>\n",
       "      <th></th>\n",
       "      <th></th>\n",
       "      <th></th>\n",
       "      <th></th>\n",
       "    </tr>\n",
       "  </thead>\n",
       "  <tbody>\n",
       "    <tr>\n",
       "      <th>335982</th>\n",
       "      <td>1</td>\n",
       "      <td>6</td>\n",
       "      <td>5</td>\n",
       "      <td>RT Ponting</td>\n",
       "      <td>BB McCullum</td>\n",
       "      <td>AA Noffke</td>\n",
       "      <td>1</td>\n",
       "      <td>0</td>\n",
       "      <td>1</td>\n",
       "      <td>0</td>\n",
       "      <td>0</td>\n",
       "      <td>NaN</td>\n",
       "      <td>NaN</td>\n",
       "      <td>NaN</td>\n",
       "      <td>NaN</td>\n",
       "      <td>Kolkata Knight Riders</td>\n",
       "      <td>Royal Challengers Bangalore</td>\n",
       "    </tr>\n",
       "    <tr>\n",
       "      <th>335982</th>\n",
       "      <td>1</td>\n",
       "      <td>6</td>\n",
       "      <td>6</td>\n",
       "      <td>BB McCullum</td>\n",
       "      <td>RT Ponting</td>\n",
       "      <td>AA Noffke</td>\n",
       "      <td>1</td>\n",
       "      <td>0</td>\n",
       "      <td>1</td>\n",
       "      <td>0</td>\n",
       "      <td>0</td>\n",
       "      <td>NaN</td>\n",
       "      <td>NaN</td>\n",
       "      <td>NaN</td>\n",
       "      <td>NaN</td>\n",
       "      <td>Kolkata Knight Riders</td>\n",
       "      <td>Royal Challengers Bangalore</td>\n",
       "    </tr>\n",
       "    <tr>\n",
       "      <th>335982</th>\n",
       "      <td>1</td>\n",
       "      <td>7</td>\n",
       "      <td>1</td>\n",
       "      <td>BB McCullum</td>\n",
       "      <td>RT Ponting</td>\n",
       "      <td>Z Khan</td>\n",
       "      <td>0</td>\n",
       "      <td>0</td>\n",
       "      <td>0</td>\n",
       "      <td>0</td>\n",
       "      <td>0</td>\n",
       "      <td>NaN</td>\n",
       "      <td>NaN</td>\n",
       "      <td>NaN</td>\n",
       "      <td>NaN</td>\n",
       "      <td>Kolkata Knight Riders</td>\n",
       "      <td>Royal Challengers Bangalore</td>\n",
       "    </tr>\n",
       "    <tr>\n",
       "      <th>335982</th>\n",
       "      <td>1</td>\n",
       "      <td>7</td>\n",
       "      <td>2</td>\n",
       "      <td>BB McCullum</td>\n",
       "      <td>RT Ponting</td>\n",
       "      <td>Z Khan</td>\n",
       "      <td>1</td>\n",
       "      <td>0</td>\n",
       "      <td>1</td>\n",
       "      <td>0</td>\n",
       "      <td>0</td>\n",
       "      <td>NaN</td>\n",
       "      <td>NaN</td>\n",
       "      <td>NaN</td>\n",
       "      <td>NaN</td>\n",
       "      <td>Kolkata Knight Riders</td>\n",
       "      <td>Royal Challengers Bangalore</td>\n",
       "    </tr>\n",
       "    <tr>\n",
       "      <th>335982</th>\n",
       "      <td>1</td>\n",
       "      <td>7</td>\n",
       "      <td>3</td>\n",
       "      <td>RT Ponting</td>\n",
       "      <td>BB McCullum</td>\n",
       "      <td>Z Khan</td>\n",
       "      <td>1</td>\n",
       "      <td>0</td>\n",
       "      <td>1</td>\n",
       "      <td>0</td>\n",
       "      <td>0</td>\n",
       "      <td>NaN</td>\n",
       "      <td>NaN</td>\n",
       "      <td>NaN</td>\n",
       "      <td>NaN</td>\n",
       "      <td>Kolkata Knight Riders</td>\n",
       "      <td>Royal Challengers Bangalore</td>\n",
       "    </tr>\n",
       "    <tr>\n",
       "      <th>...</th>\n",
       "      <td>...</td>\n",
       "      <td>...</td>\n",
       "      <td>...</td>\n",
       "      <td>...</td>\n",
       "      <td>...</td>\n",
       "      <td>...</td>\n",
       "      <td>...</td>\n",
       "      <td>...</td>\n",
       "      <td>...</td>\n",
       "      <td>...</td>\n",
       "      <td>...</td>\n",
       "      <td>...</td>\n",
       "      <td>...</td>\n",
       "      <td>...</td>\n",
       "      <td>...</td>\n",
       "      <td>...</td>\n",
       "      <td>...</td>\n",
       "    </tr>\n",
       "    <tr>\n",
       "      <th>1237181</th>\n",
       "      <td>1</td>\n",
       "      <td>12</td>\n",
       "      <td>5</td>\n",
       "      <td>RR Pant</td>\n",
       "      <td>SS Iyer</td>\n",
       "      <td>NM Coulter-Nile</td>\n",
       "      <td>0</td>\n",
       "      <td>0</td>\n",
       "      <td>0</td>\n",
       "      <td>0</td>\n",
       "      <td>0</td>\n",
       "      <td>NaN</td>\n",
       "      <td>NaN</td>\n",
       "      <td>NaN</td>\n",
       "      <td>NaN</td>\n",
       "      <td>Delhi Capitals</td>\n",
       "      <td>Mumbai Indians</td>\n",
       "    </tr>\n",
       "    <tr>\n",
       "      <th>1237181</th>\n",
       "      <td>1</td>\n",
       "      <td>12</td>\n",
       "      <td>6</td>\n",
       "      <td>RR Pant</td>\n",
       "      <td>SS Iyer</td>\n",
       "      <td>NM Coulter-Nile</td>\n",
       "      <td>1</td>\n",
       "      <td>0</td>\n",
       "      <td>1</td>\n",
       "      <td>0</td>\n",
       "      <td>0</td>\n",
       "      <td>NaN</td>\n",
       "      <td>NaN</td>\n",
       "      <td>NaN</td>\n",
       "      <td>NaN</td>\n",
       "      <td>Delhi Capitals</td>\n",
       "      <td>Mumbai Indians</td>\n",
       "    </tr>\n",
       "    <tr>\n",
       "      <th>1237181</th>\n",
       "      <td>1</td>\n",
       "      <td>13</td>\n",
       "      <td>1</td>\n",
       "      <td>RR Pant</td>\n",
       "      <td>SS Iyer</td>\n",
       "      <td>KH Pandya</td>\n",
       "      <td>0</td>\n",
       "      <td>1</td>\n",
       "      <td>1</td>\n",
       "      <td>0</td>\n",
       "      <td>0</td>\n",
       "      <td>NaN</td>\n",
       "      <td>NaN</td>\n",
       "      <td>NaN</td>\n",
       "      <td>wides</td>\n",
       "      <td>Delhi Capitals</td>\n",
       "      <td>Mumbai Indians</td>\n",
       "    </tr>\n",
       "    <tr>\n",
       "      <th>1237181</th>\n",
       "      <td>1</td>\n",
       "      <td>13</td>\n",
       "      <td>2</td>\n",
       "      <td>RR Pant</td>\n",
       "      <td>SS Iyer</td>\n",
       "      <td>KH Pandya</td>\n",
       "      <td>1</td>\n",
       "      <td>0</td>\n",
       "      <td>1</td>\n",
       "      <td>0</td>\n",
       "      <td>0</td>\n",
       "      <td>NaN</td>\n",
       "      <td>NaN</td>\n",
       "      <td>NaN</td>\n",
       "      <td>NaN</td>\n",
       "      <td>Delhi Capitals</td>\n",
       "      <td>Mumbai Indians</td>\n",
       "    </tr>\n",
       "    <tr>\n",
       "      <th>1237181</th>\n",
       "      <td>1</td>\n",
       "      <td>13</td>\n",
       "      <td>3</td>\n",
       "      <td>SS Iyer</td>\n",
       "      <td>RR Pant</td>\n",
       "      <td>KH Pandya</td>\n",
       "      <td>1</td>\n",
       "      <td>0</td>\n",
       "      <td>1</td>\n",
       "      <td>0</td>\n",
       "      <td>0</td>\n",
       "      <td>NaN</td>\n",
       "      <td>NaN</td>\n",
       "      <td>NaN</td>\n",
       "      <td>NaN</td>\n",
       "      <td>Delhi Capitals</td>\n",
       "      <td>Mumbai Indians</td>\n",
       "    </tr>\n",
       "  </tbody>\n",
       "</table>\n",
       "<p>193468 rows × 17 columns</p>\n",
       "</div>"
      ],
      "text/plain": [
       "         inning  over  ball      batsman  non_striker           bowler  \\\n",
       "id                                                                       \n",
       "335982        1     6     5   RT Ponting  BB McCullum        AA Noffke   \n",
       "335982        1     6     6  BB McCullum   RT Ponting        AA Noffke   \n",
       "335982        1     7     1  BB McCullum   RT Ponting           Z Khan   \n",
       "335982        1     7     2  BB McCullum   RT Ponting           Z Khan   \n",
       "335982        1     7     3   RT Ponting  BB McCullum           Z Khan   \n",
       "...         ...   ...   ...          ...          ...              ...   \n",
       "1237181       1    12     5      RR Pant      SS Iyer  NM Coulter-Nile   \n",
       "1237181       1    12     6      RR Pant      SS Iyer  NM Coulter-Nile   \n",
       "1237181       1    13     1      RR Pant      SS Iyer        KH Pandya   \n",
       "1237181       1    13     2      RR Pant      SS Iyer        KH Pandya   \n",
       "1237181       1    13     3      SS Iyer      RR Pant        KH Pandya   \n",
       "\n",
       "         batsman_runs  extra_runs  total_runs  non_boundary  is_wicket  \\\n",
       "id                                                                       \n",
       "335982              1           0           1             0          0   \n",
       "335982              1           0           1             0          0   \n",
       "335982              0           0           0             0          0   \n",
       "335982              1           0           1             0          0   \n",
       "335982              1           0           1             0          0   \n",
       "...               ...         ...         ...           ...        ...   \n",
       "1237181             0           0           0             0          0   \n",
       "1237181             1           0           1             0          0   \n",
       "1237181             0           1           1             0          0   \n",
       "1237181             1           0           1             0          0   \n",
       "1237181             1           0           1             0          0   \n",
       "\n",
       "        dismissal_kind player_dismissed fielder extras_type  \\\n",
       "id                                                            \n",
       "335982             NaN              NaN     NaN         NaN   \n",
       "335982             NaN              NaN     NaN         NaN   \n",
       "335982             NaN              NaN     NaN         NaN   \n",
       "335982             NaN              NaN     NaN         NaN   \n",
       "335982             NaN              NaN     NaN         NaN   \n",
       "...                ...              ...     ...         ...   \n",
       "1237181            NaN              NaN     NaN         NaN   \n",
       "1237181            NaN              NaN     NaN         NaN   \n",
       "1237181            NaN              NaN     NaN       wides   \n",
       "1237181            NaN              NaN     NaN         NaN   \n",
       "1237181            NaN              NaN     NaN         NaN   \n",
       "\n",
       "                  batting_team                 bowling_team  \n",
       "id                                                           \n",
       "335982   Kolkata Knight Riders  Royal Challengers Bangalore  \n",
       "335982   Kolkata Knight Riders  Royal Challengers Bangalore  \n",
       "335982   Kolkata Knight Riders  Royal Challengers Bangalore  \n",
       "335982   Kolkata Knight Riders  Royal Challengers Bangalore  \n",
       "335982   Kolkata Knight Riders  Royal Challengers Bangalore  \n",
       "...                        ...                          ...  \n",
       "1237181         Delhi Capitals               Mumbai Indians  \n",
       "1237181         Delhi Capitals               Mumbai Indians  \n",
       "1237181         Delhi Capitals               Mumbai Indians  \n",
       "1237181         Delhi Capitals               Mumbai Indians  \n",
       "1237181         Delhi Capitals               Mumbai Indians  \n",
       "\n",
       "[193468 rows x 17 columns]"
      ]
     },
     "execution_count": 6,
     "metadata": {},
     "output_type": "execute_result"
    }
   ],
   "source": [
    "ball_raw_df = pd.read_csv('ipl-complete-dataset-20082020/IPL Ball-by-Ball 2008-2020.csv', index_col = 'id')\n",
    "ball_raw_df"
   ]
  },
  {
   "cell_type": "markdown",
   "metadata": {},
   "source": [
    "**The dataset contains `193468 rows × 18 columns` where every match is represented by a unique id and each row has data per ball.**\n",
    "\n",
    "**2.3 Let's view in which datatype the dataset has been stored by pandas ?**"
   ]
  },
  {
   "cell_type": "code",
   "execution_count": 7,
   "metadata": {},
   "outputs": [
    {
     "data": {
      "text/plain": [
       "pandas.core.frame.DataFrame"
      ]
     },
     "execution_count": 7,
     "metadata": {},
     "output_type": "execute_result"
    }
   ],
   "source": [
    "type(ball_raw_df)"
   ]
  },
  {
   "cell_type": "markdown",
   "metadata": {},
   "source": [
    "**Pandas stores datasets as `DataFrame` datatype.**\n",
    "\n",
    "**2.4 Let us view the columns in the dataframe.**"
   ]
  },
  {
   "cell_type": "code",
   "execution_count": 8,
   "metadata": {},
   "outputs": [
    {
     "data": {
      "text/plain": [
       "Index(['inning', 'over', 'ball', 'batsman', 'non_striker', 'bowler',\n",
       "       'batsman_runs', 'extra_runs', 'total_runs', 'non_boundary', 'is_wicket',\n",
       "       'dismissal_kind', 'player_dismissed', 'fielder', 'extras_type',\n",
       "       'batting_team', 'bowling_team'],\n",
       "      dtype='object')"
      ]
     },
     "execution_count": 8,
     "metadata": {},
     "output_type": "execute_result"
    }
   ],
   "source": [
    "ball_raw_df.columns"
   ]
  },
  {
   "cell_type": "markdown",
   "metadata": {},
   "source": [
    "**2.5 As the dataframe has many columns let's limit to `batting_team, bowling_team, batsman, bowler, total_runs, is_wicket` in which we are interested and name it as `ball_df`**"
   ]
  },
  {
   "cell_type": "code",
   "execution_count": 9,
   "metadata": {},
   "outputs": [],
   "source": [
    "ball_df = ball_raw_df[['batting_team', 'bowling_team', 'batsman', 'bowler', 'batsman_runs', 'is_wicket' ]]"
   ]
  },
  {
   "cell_type": "markdown",
   "metadata": {},
   "source": [
    "**2.6 Let us view 10 random rows from it.**"
   ]
  },
  {
   "cell_type": "code",
   "execution_count": 10,
   "metadata": {},
   "outputs": [
    {
     "data": {
      "text/html": [
       "<div>\n",
       "<style scoped>\n",
       "    .dataframe tbody tr th:only-of-type {\n",
       "        vertical-align: middle;\n",
       "    }\n",
       "\n",
       "    .dataframe tbody tr th {\n",
       "        vertical-align: top;\n",
       "    }\n",
       "\n",
       "    .dataframe thead th {\n",
       "        text-align: right;\n",
       "    }\n",
       "</style>\n",
       "<table border=\"1\" class=\"dataframe\">\n",
       "  <thead>\n",
       "    <tr style=\"text-align: right;\">\n",
       "      <th></th>\n",
       "      <th>batting_team</th>\n",
       "      <th>bowling_team</th>\n",
       "      <th>batsman</th>\n",
       "      <th>bowler</th>\n",
       "      <th>batsman_runs</th>\n",
       "      <th>is_wicket</th>\n",
       "    </tr>\n",
       "    <tr>\n",
       "      <th>id</th>\n",
       "      <th></th>\n",
       "      <th></th>\n",
       "      <th></th>\n",
       "      <th></th>\n",
       "      <th></th>\n",
       "      <th></th>\n",
       "    </tr>\n",
       "  </thead>\n",
       "  <tbody>\n",
       "    <tr>\n",
       "      <th>598007</th>\n",
       "      <td>Chennai Super Kings</td>\n",
       "      <td>Kings XI Punjab</td>\n",
       "      <td>M Vijay</td>\n",
       "      <td>PP Chawla</td>\n",
       "      <td>2</td>\n",
       "      <td>0</td>\n",
       "    </tr>\n",
       "    <tr>\n",
       "      <th>501236</th>\n",
       "      <td>Deccan Chargers</td>\n",
       "      <td>Chennai Super Kings</td>\n",
       "      <td>B Chipli</td>\n",
       "      <td>SB Jakati</td>\n",
       "      <td>1</td>\n",
       "      <td>0</td>\n",
       "    </tr>\n",
       "    <tr>\n",
       "      <th>1216531</th>\n",
       "      <td>Royal Challengers Bangalore</td>\n",
       "      <td>Kings XI Punjab</td>\n",
       "      <td>S Dube</td>\n",
       "      <td>Ravi Bishnoi</td>\n",
       "      <td>6</td>\n",
       "      <td>0</td>\n",
       "    </tr>\n",
       "    <tr>\n",
       "      <th>1216516</th>\n",
       "      <td>Sunrisers Hyderabad</td>\n",
       "      <td>Chennai Super Kings</td>\n",
       "      <td>Abhishek Sharma</td>\n",
       "      <td>DJ Bravo</td>\n",
       "      <td>4</td>\n",
       "      <td>0</td>\n",
       "    </tr>\n",
       "    <tr>\n",
       "      <th>501269</th>\n",
       "      <td>Kolkata Knight Riders</td>\n",
       "      <td>Mumbai Indians</td>\n",
       "      <td>R Bhatia</td>\n",
       "      <td>SL Malinga</td>\n",
       "      <td>1</td>\n",
       "      <td>0</td>\n",
       "    </tr>\n",
       "    <tr>\n",
       "      <th>1216542</th>\n",
       "      <td>Sunrisers Hyderabad</td>\n",
       "      <td>Kings XI Punjab</td>\n",
       "      <td>DA Warner</td>\n",
       "      <td>Mujeeb Ur Rahman</td>\n",
       "      <td>1</td>\n",
       "      <td>0</td>\n",
       "    </tr>\n",
       "    <tr>\n",
       "      <th>392182</th>\n",
       "      <td>Royal Challengers Bangalore</td>\n",
       "      <td>Rajasthan Royals</td>\n",
       "      <td>R Dravid</td>\n",
       "      <td>AD Mascarenhas</td>\n",
       "      <td>4</td>\n",
       "      <td>0</td>\n",
       "    </tr>\n",
       "    <tr>\n",
       "      <th>1216547</th>\n",
       "      <td>Royal Challengers Bangalore</td>\n",
       "      <td>Mumbai Indians</td>\n",
       "      <td>D Padikkal</td>\n",
       "      <td>JJ Bumrah</td>\n",
       "      <td>1</td>\n",
       "      <td>0</td>\n",
       "    </tr>\n",
       "    <tr>\n",
       "      <th>1082616</th>\n",
       "      <td>Kings XI Punjab</td>\n",
       "      <td>Gujarat Lions</td>\n",
       "      <td>AR Patel</td>\n",
       "      <td>DR Smith</td>\n",
       "      <td>6</td>\n",
       "      <td>0</td>\n",
       "    </tr>\n",
       "    <tr>\n",
       "      <th>392223</th>\n",
       "      <td>Delhi Daredevils</td>\n",
       "      <td>Deccan Chargers</td>\n",
       "      <td>AB de Villiers</td>\n",
       "      <td>RP Singh</td>\n",
       "      <td>2</td>\n",
       "      <td>0</td>\n",
       "    </tr>\n",
       "  </tbody>\n",
       "</table>\n",
       "</div>"
      ],
      "text/plain": [
       "                        batting_team         bowling_team          batsman  \\\n",
       "id                                                                           \n",
       "598007           Chennai Super Kings      Kings XI Punjab          M Vijay   \n",
       "501236               Deccan Chargers  Chennai Super Kings         B Chipli   \n",
       "1216531  Royal Challengers Bangalore      Kings XI Punjab           S Dube   \n",
       "1216516          Sunrisers Hyderabad  Chennai Super Kings  Abhishek Sharma   \n",
       "501269         Kolkata Knight Riders       Mumbai Indians         R Bhatia   \n",
       "1216542          Sunrisers Hyderabad      Kings XI Punjab        DA Warner   \n",
       "392182   Royal Challengers Bangalore     Rajasthan Royals         R Dravid   \n",
       "1216547  Royal Challengers Bangalore       Mumbai Indians       D Padikkal   \n",
       "1082616              Kings XI Punjab        Gujarat Lions         AR Patel   \n",
       "392223              Delhi Daredevils      Deccan Chargers   AB de Villiers   \n",
       "\n",
       "                   bowler  batsman_runs  is_wicket  \n",
       "id                                                  \n",
       "598007          PP Chawla             2          0  \n",
       "501236          SB Jakati             1          0  \n",
       "1216531      Ravi Bishnoi             6          0  \n",
       "1216516          DJ Bravo             4          0  \n",
       "501269         SL Malinga             1          0  \n",
       "1216542  Mujeeb Ur Rahman             1          0  \n",
       "392182     AD Mascarenhas             4          0  \n",
       "1216547         JJ Bumrah             1          0  \n",
       "1082616          DR Smith             6          0  \n",
       "392223           RP Singh             2          0  "
      ]
     },
     "execution_count": 10,
     "metadata": {},
     "output_type": "execute_result"
    }
   ],
   "source": [
    "ball_df.sample(10)"
   ]
  },
  {
   "cell_type": "markdown",
   "metadata": {},
   "source": [
    "**2.7 Let us load the other csv file `IPL Matches 2008-2020.csv` as `match_raw_df` which contains the locations of stadiums, umpires,toss and match winning team,etc.**"
   ]
  },
  {
   "cell_type": "code",
   "execution_count": 11,
   "metadata": {},
   "outputs": [
    {
     "data": {
      "text/html": [
       "<div>\n",
       "<style scoped>\n",
       "    .dataframe tbody tr th:only-of-type {\n",
       "        vertical-align: middle;\n",
       "    }\n",
       "\n",
       "    .dataframe tbody tr th {\n",
       "        vertical-align: top;\n",
       "    }\n",
       "\n",
       "    .dataframe thead th {\n",
       "        text-align: right;\n",
       "    }\n",
       "</style>\n",
       "<table border=\"1\" class=\"dataframe\">\n",
       "  <thead>\n",
       "    <tr style=\"text-align: right;\">\n",
       "      <th></th>\n",
       "      <th>id</th>\n",
       "      <th>city</th>\n",
       "      <th>date</th>\n",
       "      <th>player_of_match</th>\n",
       "      <th>venue</th>\n",
       "      <th>neutral_venue</th>\n",
       "      <th>team1</th>\n",
       "      <th>team2</th>\n",
       "      <th>toss_winner</th>\n",
       "      <th>toss_decision</th>\n",
       "      <th>winner</th>\n",
       "      <th>result</th>\n",
       "      <th>result_margin</th>\n",
       "      <th>eliminator</th>\n",
       "      <th>method</th>\n",
       "      <th>umpire1</th>\n",
       "      <th>umpire2</th>\n",
       "    </tr>\n",
       "  </thead>\n",
       "  <tbody>\n",
       "    <tr>\n",
       "      <th>0</th>\n",
       "      <td>335982</td>\n",
       "      <td>Bangalore</td>\n",
       "      <td>2008-04-18</td>\n",
       "      <td>BB McCullum</td>\n",
       "      <td>M Chinnaswamy Stadium</td>\n",
       "      <td>0</td>\n",
       "      <td>Royal Challengers Bangalore</td>\n",
       "      <td>Kolkata Knight Riders</td>\n",
       "      <td>Royal Challengers Bangalore</td>\n",
       "      <td>field</td>\n",
       "      <td>Kolkata Knight Riders</td>\n",
       "      <td>runs</td>\n",
       "      <td>140.0</td>\n",
       "      <td>N</td>\n",
       "      <td>NaN</td>\n",
       "      <td>Asad Rauf</td>\n",
       "      <td>RE Koertzen</td>\n",
       "    </tr>\n",
       "    <tr>\n",
       "      <th>1</th>\n",
       "      <td>335983</td>\n",
       "      <td>Chandigarh</td>\n",
       "      <td>2008-04-19</td>\n",
       "      <td>MEK Hussey</td>\n",
       "      <td>Punjab Cricket Association Stadium, Mohali</td>\n",
       "      <td>0</td>\n",
       "      <td>Kings XI Punjab</td>\n",
       "      <td>Chennai Super Kings</td>\n",
       "      <td>Chennai Super Kings</td>\n",
       "      <td>bat</td>\n",
       "      <td>Chennai Super Kings</td>\n",
       "      <td>runs</td>\n",
       "      <td>33.0</td>\n",
       "      <td>N</td>\n",
       "      <td>NaN</td>\n",
       "      <td>MR Benson</td>\n",
       "      <td>SL Shastri</td>\n",
       "    </tr>\n",
       "    <tr>\n",
       "      <th>2</th>\n",
       "      <td>335984</td>\n",
       "      <td>Delhi</td>\n",
       "      <td>2008-04-19</td>\n",
       "      <td>MF Maharoof</td>\n",
       "      <td>Feroz Shah Kotla</td>\n",
       "      <td>0</td>\n",
       "      <td>Delhi Daredevils</td>\n",
       "      <td>Rajasthan Royals</td>\n",
       "      <td>Rajasthan Royals</td>\n",
       "      <td>bat</td>\n",
       "      <td>Delhi Daredevils</td>\n",
       "      <td>wickets</td>\n",
       "      <td>9.0</td>\n",
       "      <td>N</td>\n",
       "      <td>NaN</td>\n",
       "      <td>Aleem Dar</td>\n",
       "      <td>GA Pratapkumar</td>\n",
       "    </tr>\n",
       "    <tr>\n",
       "      <th>3</th>\n",
       "      <td>335985</td>\n",
       "      <td>Mumbai</td>\n",
       "      <td>2008-04-20</td>\n",
       "      <td>MV Boucher</td>\n",
       "      <td>Wankhede Stadium</td>\n",
       "      <td>0</td>\n",
       "      <td>Mumbai Indians</td>\n",
       "      <td>Royal Challengers Bangalore</td>\n",
       "      <td>Mumbai Indians</td>\n",
       "      <td>bat</td>\n",
       "      <td>Royal Challengers Bangalore</td>\n",
       "      <td>wickets</td>\n",
       "      <td>5.0</td>\n",
       "      <td>N</td>\n",
       "      <td>NaN</td>\n",
       "      <td>SJ Davis</td>\n",
       "      <td>DJ Harper</td>\n",
       "    </tr>\n",
       "    <tr>\n",
       "      <th>4</th>\n",
       "      <td>335986</td>\n",
       "      <td>Kolkata</td>\n",
       "      <td>2008-04-20</td>\n",
       "      <td>DJ Hussey</td>\n",
       "      <td>Eden Gardens</td>\n",
       "      <td>0</td>\n",
       "      <td>Kolkata Knight Riders</td>\n",
       "      <td>Deccan Chargers</td>\n",
       "      <td>Deccan Chargers</td>\n",
       "      <td>bat</td>\n",
       "      <td>Kolkata Knight Riders</td>\n",
       "      <td>wickets</td>\n",
       "      <td>5.0</td>\n",
       "      <td>N</td>\n",
       "      <td>NaN</td>\n",
       "      <td>BF Bowden</td>\n",
       "      <td>K Hariharan</td>\n",
       "    </tr>\n",
       "    <tr>\n",
       "      <th>...</th>\n",
       "      <td>...</td>\n",
       "      <td>...</td>\n",
       "      <td>...</td>\n",
       "      <td>...</td>\n",
       "      <td>...</td>\n",
       "      <td>...</td>\n",
       "      <td>...</td>\n",
       "      <td>...</td>\n",
       "      <td>...</td>\n",
       "      <td>...</td>\n",
       "      <td>...</td>\n",
       "      <td>...</td>\n",
       "      <td>...</td>\n",
       "      <td>...</td>\n",
       "      <td>...</td>\n",
       "      <td>...</td>\n",
       "      <td>...</td>\n",
       "    </tr>\n",
       "    <tr>\n",
       "      <th>811</th>\n",
       "      <td>1216547</td>\n",
       "      <td>Dubai</td>\n",
       "      <td>2020-09-28</td>\n",
       "      <td>AB de Villiers</td>\n",
       "      <td>Dubai International Cricket Stadium</td>\n",
       "      <td>0</td>\n",
       "      <td>Royal Challengers Bangalore</td>\n",
       "      <td>Mumbai Indians</td>\n",
       "      <td>Mumbai Indians</td>\n",
       "      <td>field</td>\n",
       "      <td>Royal Challengers Bangalore</td>\n",
       "      <td>tie</td>\n",
       "      <td>NaN</td>\n",
       "      <td>Y</td>\n",
       "      <td>NaN</td>\n",
       "      <td>Nitin Menon</td>\n",
       "      <td>PR Reiffel</td>\n",
       "    </tr>\n",
       "    <tr>\n",
       "      <th>812</th>\n",
       "      <td>1237177</td>\n",
       "      <td>Dubai</td>\n",
       "      <td>2020-11-05</td>\n",
       "      <td>JJ Bumrah</td>\n",
       "      <td>Dubai International Cricket Stadium</td>\n",
       "      <td>0</td>\n",
       "      <td>Mumbai Indians</td>\n",
       "      <td>Delhi Capitals</td>\n",
       "      <td>Delhi Capitals</td>\n",
       "      <td>field</td>\n",
       "      <td>Mumbai Indians</td>\n",
       "      <td>runs</td>\n",
       "      <td>57.0</td>\n",
       "      <td>N</td>\n",
       "      <td>NaN</td>\n",
       "      <td>CB Gaffaney</td>\n",
       "      <td>Nitin Menon</td>\n",
       "    </tr>\n",
       "    <tr>\n",
       "      <th>813</th>\n",
       "      <td>1237178</td>\n",
       "      <td>Abu Dhabi</td>\n",
       "      <td>2020-11-06</td>\n",
       "      <td>KS Williamson</td>\n",
       "      <td>Sheikh Zayed Stadium</td>\n",
       "      <td>0</td>\n",
       "      <td>Royal Challengers Bangalore</td>\n",
       "      <td>Sunrisers Hyderabad</td>\n",
       "      <td>Sunrisers Hyderabad</td>\n",
       "      <td>field</td>\n",
       "      <td>Sunrisers Hyderabad</td>\n",
       "      <td>wickets</td>\n",
       "      <td>6.0</td>\n",
       "      <td>N</td>\n",
       "      <td>NaN</td>\n",
       "      <td>PR Reiffel</td>\n",
       "      <td>S Ravi</td>\n",
       "    </tr>\n",
       "    <tr>\n",
       "      <th>814</th>\n",
       "      <td>1237180</td>\n",
       "      <td>Abu Dhabi</td>\n",
       "      <td>2020-11-08</td>\n",
       "      <td>MP Stoinis</td>\n",
       "      <td>Sheikh Zayed Stadium</td>\n",
       "      <td>0</td>\n",
       "      <td>Delhi Capitals</td>\n",
       "      <td>Sunrisers Hyderabad</td>\n",
       "      <td>Delhi Capitals</td>\n",
       "      <td>bat</td>\n",
       "      <td>Delhi Capitals</td>\n",
       "      <td>runs</td>\n",
       "      <td>17.0</td>\n",
       "      <td>N</td>\n",
       "      <td>NaN</td>\n",
       "      <td>PR Reiffel</td>\n",
       "      <td>S Ravi</td>\n",
       "    </tr>\n",
       "    <tr>\n",
       "      <th>815</th>\n",
       "      <td>1237181</td>\n",
       "      <td>Dubai</td>\n",
       "      <td>2020-11-10</td>\n",
       "      <td>TA Boult</td>\n",
       "      <td>Dubai International Cricket Stadium</td>\n",
       "      <td>0</td>\n",
       "      <td>Delhi Capitals</td>\n",
       "      <td>Mumbai Indians</td>\n",
       "      <td>Delhi Capitals</td>\n",
       "      <td>bat</td>\n",
       "      <td>Mumbai Indians</td>\n",
       "      <td>wickets</td>\n",
       "      <td>5.0</td>\n",
       "      <td>N</td>\n",
       "      <td>NaN</td>\n",
       "      <td>CB Gaffaney</td>\n",
       "      <td>Nitin Menon</td>\n",
       "    </tr>\n",
       "  </tbody>\n",
       "</table>\n",
       "<p>816 rows × 17 columns</p>\n",
       "</div>"
      ],
      "text/plain": [
       "          id        city        date player_of_match  \\\n",
       "0     335982   Bangalore  2008-04-18     BB McCullum   \n",
       "1     335983  Chandigarh  2008-04-19      MEK Hussey   \n",
       "2     335984       Delhi  2008-04-19     MF Maharoof   \n",
       "3     335985      Mumbai  2008-04-20      MV Boucher   \n",
       "4     335986     Kolkata  2008-04-20       DJ Hussey   \n",
       "..       ...         ...         ...             ...   \n",
       "811  1216547       Dubai  2020-09-28  AB de Villiers   \n",
       "812  1237177       Dubai  2020-11-05       JJ Bumrah   \n",
       "813  1237178   Abu Dhabi  2020-11-06   KS Williamson   \n",
       "814  1237180   Abu Dhabi  2020-11-08      MP Stoinis   \n",
       "815  1237181       Dubai  2020-11-10        TA Boult   \n",
       "\n",
       "                                          venue  neutral_venue  \\\n",
       "0                         M Chinnaswamy Stadium              0   \n",
       "1    Punjab Cricket Association Stadium, Mohali              0   \n",
       "2                              Feroz Shah Kotla              0   \n",
       "3                              Wankhede Stadium              0   \n",
       "4                                  Eden Gardens              0   \n",
       "..                                          ...            ...   \n",
       "811         Dubai International Cricket Stadium              0   \n",
       "812         Dubai International Cricket Stadium              0   \n",
       "813                        Sheikh Zayed Stadium              0   \n",
       "814                        Sheikh Zayed Stadium              0   \n",
       "815         Dubai International Cricket Stadium              0   \n",
       "\n",
       "                           team1                        team2  \\\n",
       "0    Royal Challengers Bangalore        Kolkata Knight Riders   \n",
       "1                Kings XI Punjab          Chennai Super Kings   \n",
       "2               Delhi Daredevils             Rajasthan Royals   \n",
       "3                 Mumbai Indians  Royal Challengers Bangalore   \n",
       "4          Kolkata Knight Riders              Deccan Chargers   \n",
       "..                           ...                          ...   \n",
       "811  Royal Challengers Bangalore               Mumbai Indians   \n",
       "812               Mumbai Indians               Delhi Capitals   \n",
       "813  Royal Challengers Bangalore          Sunrisers Hyderabad   \n",
       "814               Delhi Capitals          Sunrisers Hyderabad   \n",
       "815               Delhi Capitals               Mumbai Indians   \n",
       "\n",
       "                     toss_winner toss_decision                       winner  \\\n",
       "0    Royal Challengers Bangalore         field        Kolkata Knight Riders   \n",
       "1            Chennai Super Kings           bat          Chennai Super Kings   \n",
       "2               Rajasthan Royals           bat             Delhi Daredevils   \n",
       "3                 Mumbai Indians           bat  Royal Challengers Bangalore   \n",
       "4                Deccan Chargers           bat        Kolkata Knight Riders   \n",
       "..                           ...           ...                          ...   \n",
       "811               Mumbai Indians         field  Royal Challengers Bangalore   \n",
       "812               Delhi Capitals         field               Mumbai Indians   \n",
       "813          Sunrisers Hyderabad         field          Sunrisers Hyderabad   \n",
       "814               Delhi Capitals           bat               Delhi Capitals   \n",
       "815               Delhi Capitals           bat               Mumbai Indians   \n",
       "\n",
       "      result  result_margin eliminator method      umpire1         umpire2  \n",
       "0       runs          140.0          N    NaN    Asad Rauf     RE Koertzen  \n",
       "1       runs           33.0          N    NaN    MR Benson      SL Shastri  \n",
       "2    wickets            9.0          N    NaN    Aleem Dar  GA Pratapkumar  \n",
       "3    wickets            5.0          N    NaN     SJ Davis       DJ Harper  \n",
       "4    wickets            5.0          N    NaN    BF Bowden     K Hariharan  \n",
       "..       ...            ...        ...    ...          ...             ...  \n",
       "811      tie            NaN          Y    NaN  Nitin Menon      PR Reiffel  \n",
       "812     runs           57.0          N    NaN  CB Gaffaney     Nitin Menon  \n",
       "813  wickets            6.0          N    NaN   PR Reiffel          S Ravi  \n",
       "814     runs           17.0          N    NaN   PR Reiffel          S Ravi  \n",
       "815  wickets            5.0          N    NaN  CB Gaffaney     Nitin Menon  \n",
       "\n",
       "[816 rows x 17 columns]"
      ]
     },
     "execution_count": 11,
     "metadata": {},
     "output_type": "execute_result"
    }
   ],
   "source": [
    "match_raw_df = pd.read_csv('ipl-complete-dataset-20082020/IPL Matches 2008-2020.csv')\n",
    "match_raw_df"
   ]
  },
  {
   "cell_type": "markdown",
   "metadata": {},
   "source": [
    "**The dataset contains 816 rows × 17 columns where every match is represented by a unique id same as in the previously loaded dataset.Each row has information about date,location, winner of the matches,etc.**\n",
    "\n",
    "**2.8 let us view it's columns**"
   ]
  },
  {
   "cell_type": "code",
   "execution_count": 12,
   "metadata": {},
   "outputs": [
    {
     "data": {
      "text/plain": [
       "Index(['id', 'city', 'date', 'player_of_match', 'venue', 'neutral_venue',\n",
       "       'team1', 'team2', 'toss_winner', 'toss_decision', 'winner', 'result',\n",
       "       'result_margin', 'eliminator', 'method', 'umpire1', 'umpire2'],\n",
       "      dtype='object')"
      ]
     },
     "execution_count": 12,
     "metadata": {},
     "output_type": "execute_result"
    }
   ],
   "source": [
    "match_raw_df.columns"
   ]
  },
  {
   "cell_type": "markdown",
   "metadata": {},
   "source": [
    "**2.9 Let's view the teams in `winner` column**"
   ]
  },
  {
   "cell_type": "code",
   "execution_count": 13,
   "metadata": {},
   "outputs": [
    {
     "data": {
      "text/plain": [
       "array(['Kolkata Knight Riders', 'Chennai Super Kings', 'Delhi Daredevils',\n",
       "       'Royal Challengers Bangalore', 'Rajasthan Royals',\n",
       "       'Kings XI Punjab', 'Deccan Chargers', 'Mumbai Indians',\n",
       "       'Pune Warriors', 'Kochi Tuskers Kerala', nan,\n",
       "       'Sunrisers Hyderabad', 'Rising Pune Supergiants', 'Gujarat Lions',\n",
       "       'Rising Pune Supergiant', 'Delhi Capitals'], dtype=object)"
      ]
     },
     "execution_count": 13,
     "metadata": {},
     "output_type": "execute_result"
    }
   ],
   "source": [
    "match_raw_df.winner.unique()"
   ]
  },
  {
   "cell_type": "markdown",
   "metadata": {},
   "source": [
    "**2.10 Let's change `Delhi Daredevils` to its present name `Delhi Capitals`  and also there is typo in `Rising Pune Supergiants` has extra `s` in last instead of `Rising Pune Supergiant`.**"
   ]
  },
  {
   "cell_type": "code",
   "execution_count": 14,
   "metadata": {},
   "outputs": [],
   "source": [
    "match_raw_df = match_raw_df.replace(['Delhi Daredevils', 'Rising Pune Supergiants'],\n",
    "                                    ['Delhi Capitals','Rising Pune Supergiant' ])"
   ]
  },
  {
   "cell_type": "markdown",
   "metadata": {},
   "source": [
    "**All changes done successfully. Let's have a look.**"
   ]
  },
  {
   "cell_type": "code",
   "execution_count": 15,
   "metadata": {},
   "outputs": [
    {
     "data": {
      "text/plain": [
       "array(['Kolkata Knight Riders', 'Chennai Super Kings', 'Delhi Capitals',\n",
       "       'Royal Challengers Bangalore', 'Rajasthan Royals',\n",
       "       'Kings XI Punjab', 'Deccan Chargers', 'Mumbai Indians',\n",
       "       'Pune Warriors', 'Kochi Tuskers Kerala', nan,\n",
       "       'Sunrisers Hyderabad', 'Rising Pune Supergiant', 'Gujarat Lions'],\n",
       "      dtype=object)"
      ]
     },
     "execution_count": 15,
     "metadata": {},
     "output_type": "execute_result"
    }
   ],
   "source": [
    "match_raw_df.winner.unique()"
   ]
  },
  {
   "cell_type": "markdown",
   "metadata": {},
   "source": [
    "**2.11 There is `nan` value in winner column, it means 'Not A Number' and appears when the cell is empty. Let's check those rows.**"
   ]
  },
  {
   "cell_type": "code",
   "execution_count": 16,
   "metadata": {},
   "outputs": [
    {
     "data": {
      "text/html": [
       "<div>\n",
       "<style scoped>\n",
       "    .dataframe tbody tr th:only-of-type {\n",
       "        vertical-align: middle;\n",
       "    }\n",
       "\n",
       "    .dataframe tbody tr th {\n",
       "        vertical-align: top;\n",
       "    }\n",
       "\n",
       "    .dataframe thead th {\n",
       "        text-align: right;\n",
       "    }\n",
       "</style>\n",
       "<table border=\"1\" class=\"dataframe\">\n",
       "  <thead>\n",
       "    <tr style=\"text-align: right;\">\n",
       "      <th></th>\n",
       "      <th>id</th>\n",
       "      <th>city</th>\n",
       "      <th>date</th>\n",
       "      <th>player_of_match</th>\n",
       "      <th>venue</th>\n",
       "      <th>neutral_venue</th>\n",
       "      <th>team1</th>\n",
       "      <th>team2</th>\n",
       "      <th>toss_winner</th>\n",
       "      <th>toss_decision</th>\n",
       "      <th>winner</th>\n",
       "      <th>result</th>\n",
       "      <th>result_margin</th>\n",
       "      <th>eliminator</th>\n",
       "      <th>method</th>\n",
       "      <th>umpire1</th>\n",
       "      <th>umpire2</th>\n",
       "    </tr>\n",
       "  </thead>\n",
       "  <tbody>\n",
       "    <tr>\n",
       "      <th>241</th>\n",
       "      <td>501265</td>\n",
       "      <td>Delhi</td>\n",
       "      <td>2011-05-21</td>\n",
       "      <td>NaN</td>\n",
       "      <td>Feroz Shah Kotla</td>\n",
       "      <td>0</td>\n",
       "      <td>Delhi Capitals</td>\n",
       "      <td>Pune Warriors</td>\n",
       "      <td>Delhi Capitals</td>\n",
       "      <td>bat</td>\n",
       "      <td>NaN</td>\n",
       "      <td>NaN</td>\n",
       "      <td>NaN</td>\n",
       "      <td>NaN</td>\n",
       "      <td>NaN</td>\n",
       "      <td>SS Hazare</td>\n",
       "      <td>RJ Tucker</td>\n",
       "    </tr>\n",
       "    <tr>\n",
       "      <th>486</th>\n",
       "      <td>829763</td>\n",
       "      <td>Bangalore</td>\n",
       "      <td>2015-04-29</td>\n",
       "      <td>NaN</td>\n",
       "      <td>M Chinnaswamy Stadium</td>\n",
       "      <td>0</td>\n",
       "      <td>Royal Challengers Bangalore</td>\n",
       "      <td>Rajasthan Royals</td>\n",
       "      <td>Rajasthan Royals</td>\n",
       "      <td>field</td>\n",
       "      <td>NaN</td>\n",
       "      <td>NaN</td>\n",
       "      <td>NaN</td>\n",
       "      <td>NaN</td>\n",
       "      <td>NaN</td>\n",
       "      <td>JD Cloete</td>\n",
       "      <td>PG Pathak</td>\n",
       "    </tr>\n",
       "    <tr>\n",
       "      <th>511</th>\n",
       "      <td>829813</td>\n",
       "      <td>Bangalore</td>\n",
       "      <td>2015-05-17</td>\n",
       "      <td>NaN</td>\n",
       "      <td>M Chinnaswamy Stadium</td>\n",
       "      <td>0</td>\n",
       "      <td>Royal Challengers Bangalore</td>\n",
       "      <td>Delhi Capitals</td>\n",
       "      <td>Royal Challengers Bangalore</td>\n",
       "      <td>field</td>\n",
       "      <td>NaN</td>\n",
       "      <td>NaN</td>\n",
       "      <td>NaN</td>\n",
       "      <td>NaN</td>\n",
       "      <td>NaN</td>\n",
       "      <td>HDPK Dharmasena</td>\n",
       "      <td>K Srinivasan</td>\n",
       "    </tr>\n",
       "    <tr>\n",
       "      <th>744</th>\n",
       "      <td>1178424</td>\n",
       "      <td>Bengaluru</td>\n",
       "      <td>2019-04-30</td>\n",
       "      <td>NaN</td>\n",
       "      <td>M.Chinnaswamy Stadium</td>\n",
       "      <td>0</td>\n",
       "      <td>Royal Challengers Bangalore</td>\n",
       "      <td>Rajasthan Royals</td>\n",
       "      <td>Rajasthan Royals</td>\n",
       "      <td>field</td>\n",
       "      <td>NaN</td>\n",
       "      <td>NaN</td>\n",
       "      <td>NaN</td>\n",
       "      <td>NaN</td>\n",
       "      <td>NaN</td>\n",
       "      <td>UV Gandhe</td>\n",
       "      <td>NJ Llong</td>\n",
       "    </tr>\n",
       "  </tbody>\n",
       "</table>\n",
       "</div>"
      ],
      "text/plain": [
       "          id       city        date player_of_match                  venue  \\\n",
       "241   501265      Delhi  2011-05-21             NaN       Feroz Shah Kotla   \n",
       "486   829763  Bangalore  2015-04-29             NaN  M Chinnaswamy Stadium   \n",
       "511   829813  Bangalore  2015-05-17             NaN  M Chinnaswamy Stadium   \n",
       "744  1178424  Bengaluru  2019-04-30             NaN  M.Chinnaswamy Stadium   \n",
       "\n",
       "     neutral_venue                        team1             team2  \\\n",
       "241              0               Delhi Capitals     Pune Warriors   \n",
       "486              0  Royal Challengers Bangalore  Rajasthan Royals   \n",
       "511              0  Royal Challengers Bangalore    Delhi Capitals   \n",
       "744              0  Royal Challengers Bangalore  Rajasthan Royals   \n",
       "\n",
       "                     toss_winner toss_decision winner result  result_margin  \\\n",
       "241               Delhi Capitals           bat    NaN    NaN            NaN   \n",
       "486             Rajasthan Royals         field    NaN    NaN            NaN   \n",
       "511  Royal Challengers Bangalore         field    NaN    NaN            NaN   \n",
       "744             Rajasthan Royals         field    NaN    NaN            NaN   \n",
       "\n",
       "    eliminator method          umpire1       umpire2  \n",
       "241        NaN    NaN        SS Hazare     RJ Tucker  \n",
       "486        NaN    NaN        JD Cloete     PG Pathak  \n",
       "511        NaN    NaN  HDPK Dharmasena  K Srinivasan  \n",
       "744        NaN    NaN        UV Gandhe      NJ Llong  "
      ]
     },
     "execution_count": 16,
     "metadata": {},
     "output_type": "execute_result"
    }
   ],
   "source": [
    "match_raw_df[match_raw_df.winner.isna() == True]"
   ]
  },
  {
   "cell_type": "markdown",
   "metadata": {},
   "source": [
    "**There are 4 rows where the name of the winning team in winner column is missing. It may happen that these matches cancelled in between for some reasons or it may be typo. Let's remove them.**"
   ]
  },
  {
   "cell_type": "code",
   "execution_count": 17,
   "metadata": {},
   "outputs": [],
   "source": [
    "match_raw_df.drop(match_raw_df[match_raw_df.winner.isna() == True].index, inplace = True)"
   ]
  },
  {
   "cell_type": "markdown",
   "metadata": {},
   "source": [
    "**2.12 Let us create a new dataframe match_df by filtering the columns and view 10 random  rows from it.**"
   ]
  },
  {
   "cell_type": "code",
   "execution_count": 18,
   "metadata": {},
   "outputs": [
    {
     "data": {
      "text/html": [
       "<div>\n",
       "<style scoped>\n",
       "    .dataframe tbody tr th:only-of-type {\n",
       "        vertical-align: middle;\n",
       "    }\n",
       "\n",
       "    .dataframe tbody tr th {\n",
       "        vertical-align: top;\n",
       "    }\n",
       "\n",
       "    .dataframe thead th {\n",
       "        text-align: right;\n",
       "    }\n",
       "</style>\n",
       "<table border=\"1\" class=\"dataframe\">\n",
       "  <thead>\n",
       "    <tr style=\"text-align: right;\">\n",
       "      <th></th>\n",
       "      <th>id</th>\n",
       "      <th>city</th>\n",
       "      <th>date</th>\n",
       "      <th>player_of_match</th>\n",
       "      <th>venue</th>\n",
       "      <th>team1</th>\n",
       "      <th>team2</th>\n",
       "      <th>toss_winner</th>\n",
       "      <th>toss_decision</th>\n",
       "      <th>winner</th>\n",
       "    </tr>\n",
       "  </thead>\n",
       "  <tbody>\n",
       "    <tr>\n",
       "      <th>253</th>\n",
       "      <td>548311</td>\n",
       "      <td>Visakhapatnam</td>\n",
       "      <td>2012-04-07</td>\n",
       "      <td>RA Jadeja</td>\n",
       "      <td>Dr. Y.S. Rajasekhara Reddy ACA-VDCA Cricket St...</td>\n",
       "      <td>Deccan Chargers</td>\n",
       "      <td>Chennai Super Kings</td>\n",
       "      <td>Deccan Chargers</td>\n",
       "      <td>field</td>\n",
       "      <td>Chennai Super Kings</td>\n",
       "    </tr>\n",
       "    <tr>\n",
       "      <th>513</th>\n",
       "      <td>829817</td>\n",
       "      <td>Mumbai</td>\n",
       "      <td>2015-05-19</td>\n",
       "      <td>KA Pollard</td>\n",
       "      <td>Wankhede Stadium</td>\n",
       "      <td>Chennai Super Kings</td>\n",
       "      <td>Mumbai Indians</td>\n",
       "      <td>Mumbai Indians</td>\n",
       "      <td>bat</td>\n",
       "      <td>Mumbai Indians</td>\n",
       "    </tr>\n",
       "    <tr>\n",
       "      <th>753</th>\n",
       "      <td>1181766</td>\n",
       "      <td>Visakhapatnam</td>\n",
       "      <td>2019-05-08</td>\n",
       "      <td>RR Pant</td>\n",
       "      <td>Dr. Y.S. Rajasekhara Reddy ACA-VDCA Cricket St...</td>\n",
       "      <td>Delhi Capitals</td>\n",
       "      <td>Sunrisers Hyderabad</td>\n",
       "      <td>Delhi Capitals</td>\n",
       "      <td>field</td>\n",
       "      <td>Delhi Capitals</td>\n",
       "    </tr>\n",
       "    <tr>\n",
       "      <th>6</th>\n",
       "      <td>335988</td>\n",
       "      <td>Hyderabad</td>\n",
       "      <td>2008-04-22</td>\n",
       "      <td>V Sehwag</td>\n",
       "      <td>Rajiv Gandhi International Stadium, Uppal</td>\n",
       "      <td>Deccan Chargers</td>\n",
       "      <td>Delhi Capitals</td>\n",
       "      <td>Deccan Chargers</td>\n",
       "      <td>bat</td>\n",
       "      <td>Delhi Capitals</td>\n",
       "    </tr>\n",
       "    <tr>\n",
       "      <th>482</th>\n",
       "      <td>829753</td>\n",
       "      <td>Chennai</td>\n",
       "      <td>2015-04-25</td>\n",
       "      <td>BB McCullum</td>\n",
       "      <td>MA Chidambaram Stadium, Chepauk</td>\n",
       "      <td>Chennai Super Kings</td>\n",
       "      <td>Kings XI Punjab</td>\n",
       "      <td>Chennai Super Kings</td>\n",
       "      <td>bat</td>\n",
       "      <td>Chennai Super Kings</td>\n",
       "    </tr>\n",
       "    <tr>\n",
       "      <th>596</th>\n",
       "      <td>1082610</td>\n",
       "      <td>Rajkot</td>\n",
       "      <td>2017-04-18</td>\n",
       "      <td>CH Gayle</td>\n",
       "      <td>Saurashtra Cricket Association Stadium</td>\n",
       "      <td>Gujarat Lions</td>\n",
       "      <td>Royal Challengers Bangalore</td>\n",
       "      <td>Gujarat Lions</td>\n",
       "      <td>field</td>\n",
       "      <td>Royal Challengers Bangalore</td>\n",
       "    </tr>\n",
       "    <tr>\n",
       "      <th>171</th>\n",
       "      <td>419162</td>\n",
       "      <td>Mumbai</td>\n",
       "      <td>2010-04-21</td>\n",
       "      <td>KA Pollard</td>\n",
       "      <td>Dr DY Patil Sports Academy</td>\n",
       "      <td>Royal Challengers Bangalore</td>\n",
       "      <td>Mumbai Indians</td>\n",
       "      <td>Mumbai Indians</td>\n",
       "      <td>bat</td>\n",
       "      <td>Mumbai Indians</td>\n",
       "    </tr>\n",
       "    <tr>\n",
       "      <th>353</th>\n",
       "      <td>598029</td>\n",
       "      <td>Kolkata</td>\n",
       "      <td>2013-04-24</td>\n",
       "      <td>DR Smith</td>\n",
       "      <td>Eden Gardens</td>\n",
       "      <td>Kolkata Knight Riders</td>\n",
       "      <td>Mumbai Indians</td>\n",
       "      <td>Kolkata Knight Riders</td>\n",
       "      <td>bat</td>\n",
       "      <td>Mumbai Indians</td>\n",
       "    </tr>\n",
       "    <tr>\n",
       "      <th>483</th>\n",
       "      <td>829757</td>\n",
       "      <td>Delhi</td>\n",
       "      <td>2015-04-26</td>\n",
       "      <td>VR Aaron</td>\n",
       "      <td>Feroz Shah Kotla</td>\n",
       "      <td>Delhi Capitals</td>\n",
       "      <td>Royal Challengers Bangalore</td>\n",
       "      <td>Royal Challengers Bangalore</td>\n",
       "      <td>field</td>\n",
       "      <td>Royal Challengers Bangalore</td>\n",
       "    </tr>\n",
       "    <tr>\n",
       "      <th>801</th>\n",
       "      <td>1216537</td>\n",
       "      <td>Abu Dhabi</td>\n",
       "      <td>2020-10-30</td>\n",
       "      <td>BA Stokes</td>\n",
       "      <td>Sheikh Zayed Stadium</td>\n",
       "      <td>Kings XI Punjab</td>\n",
       "      <td>Rajasthan Royals</td>\n",
       "      <td>Rajasthan Royals</td>\n",
       "      <td>field</td>\n",
       "      <td>Rajasthan Royals</td>\n",
       "    </tr>\n",
       "  </tbody>\n",
       "</table>\n",
       "</div>"
      ],
      "text/plain": [
       "          id           city        date player_of_match  \\\n",
       "253   548311  Visakhapatnam  2012-04-07       RA Jadeja   \n",
       "513   829817         Mumbai  2015-05-19      KA Pollard   \n",
       "753  1181766  Visakhapatnam  2019-05-08         RR Pant   \n",
       "6     335988      Hyderabad  2008-04-22        V Sehwag   \n",
       "482   829753        Chennai  2015-04-25     BB McCullum   \n",
       "596  1082610         Rajkot  2017-04-18        CH Gayle   \n",
       "171   419162         Mumbai  2010-04-21      KA Pollard   \n",
       "353   598029        Kolkata  2013-04-24        DR Smith   \n",
       "483   829757          Delhi  2015-04-26        VR Aaron   \n",
       "801  1216537      Abu Dhabi  2020-10-30       BA Stokes   \n",
       "\n",
       "                                                 venue  \\\n",
       "253  Dr. Y.S. Rajasekhara Reddy ACA-VDCA Cricket St...   \n",
       "513                                   Wankhede Stadium   \n",
       "753  Dr. Y.S. Rajasekhara Reddy ACA-VDCA Cricket St...   \n",
       "6            Rajiv Gandhi International Stadium, Uppal   \n",
       "482                    MA Chidambaram Stadium, Chepauk   \n",
       "596             Saurashtra Cricket Association Stadium   \n",
       "171                         Dr DY Patil Sports Academy   \n",
       "353                                       Eden Gardens   \n",
       "483                                   Feroz Shah Kotla   \n",
       "801                               Sheikh Zayed Stadium   \n",
       "\n",
       "                           team1                        team2  \\\n",
       "253              Deccan Chargers          Chennai Super Kings   \n",
       "513          Chennai Super Kings               Mumbai Indians   \n",
       "753               Delhi Capitals          Sunrisers Hyderabad   \n",
       "6                Deccan Chargers               Delhi Capitals   \n",
       "482          Chennai Super Kings              Kings XI Punjab   \n",
       "596                Gujarat Lions  Royal Challengers Bangalore   \n",
       "171  Royal Challengers Bangalore               Mumbai Indians   \n",
       "353        Kolkata Knight Riders               Mumbai Indians   \n",
       "483               Delhi Capitals  Royal Challengers Bangalore   \n",
       "801              Kings XI Punjab             Rajasthan Royals   \n",
       "\n",
       "                     toss_winner toss_decision                       winner  \n",
       "253              Deccan Chargers         field          Chennai Super Kings  \n",
       "513               Mumbai Indians           bat               Mumbai Indians  \n",
       "753               Delhi Capitals         field               Delhi Capitals  \n",
       "6                Deccan Chargers           bat               Delhi Capitals  \n",
       "482          Chennai Super Kings           bat          Chennai Super Kings  \n",
       "596                Gujarat Lions         field  Royal Challengers Bangalore  \n",
       "171               Mumbai Indians           bat               Mumbai Indians  \n",
       "353        Kolkata Knight Riders           bat               Mumbai Indians  \n",
       "483  Royal Challengers Bangalore         field  Royal Challengers Bangalore  \n",
       "801             Rajasthan Royals         field             Rajasthan Royals  "
      ]
     },
     "execution_count": 18,
     "metadata": {},
     "output_type": "execute_result"
    }
   ],
   "source": [
    "match_main_df = match_raw_df[['id', 'city', 'date', 'player_of_match', 'venue','team1', 'team2', 'toss_winner', 'toss_decision',\n",
    "                              'winner']]\n",
    "\n",
    "match_df = match_main_df.copy() \n",
    "# created a copy match_df so that changes in it will not reflect in original dataframe and we use it again if its copy is \n",
    "# spoiled.\n",
    "\n",
    "match_df.sample(10)"
   ]
  },
  {
   "cell_type": "markdown",
   "metadata": {},
   "source": [
    "**2.13 Let's check what datatypes has been stored in each column?**"
   ]
  },
  {
   "cell_type": "code",
   "execution_count": 19,
   "metadata": {},
   "outputs": [
    {
     "name": "stdout",
     "output_type": "stream",
     "text": [
      "<class 'pandas.core.frame.DataFrame'>\n",
      "Int64Index: 812 entries, 0 to 815\n",
      "Data columns (total 10 columns):\n",
      " #   Column           Non-Null Count  Dtype \n",
      "---  ------           --------------  ----- \n",
      " 0   id               812 non-null    int64 \n",
      " 1   city             799 non-null    object\n",
      " 2   date             812 non-null    object\n",
      " 3   player_of_match  812 non-null    object\n",
      " 4   venue            812 non-null    object\n",
      " 5   team1            812 non-null    object\n",
      " 6   team2            812 non-null    object\n",
      " 7   toss_winner      812 non-null    object\n",
      " 8   toss_decision    812 non-null    object\n",
      " 9   winner           812 non-null    object\n",
      "dtypes: int64(1), object(9)\n",
      "memory usage: 69.8+ KB\n"
     ]
    }
   ],
   "source": [
    "match_df.info()"
   ]
  },
  {
   "cell_type": "markdown",
   "metadata": {},
   "source": [
    "**2.14 Pandas has stored the date column as object datatype. let us change it, so pandas can recognize it as date and we can add a month, year and weekday column to match_df.**"
   ]
  },
  {
   "cell_type": "code",
   "execution_count": 20,
   "metadata": {},
   "outputs": [
    {
     "name": "stdout",
     "output_type": "stream",
     "text": [
      "<class 'pandas.core.frame.DataFrame'>\n",
      "Int64Index: 812 entries, 0 to 815\n",
      "Data columns (total 10 columns):\n",
      " #   Column           Non-Null Count  Dtype         \n",
      "---  ------           --------------  -----         \n",
      " 0   id               812 non-null    int64         \n",
      " 1   city             799 non-null    object        \n",
      " 2   date             812 non-null    datetime64[ns]\n",
      " 3   player_of_match  812 non-null    object        \n",
      " 4   venue            812 non-null    object        \n",
      " 5   team1            812 non-null    object        \n",
      " 6   team2            812 non-null    object        \n",
      " 7   toss_winner      812 non-null    object        \n",
      " 8   toss_decision    812 non-null    object        \n",
      " 9   winner           812 non-null    object        \n",
      "dtypes: datetime64[ns](1), int64(1), object(8)\n",
      "memory usage: 69.8+ KB\n"
     ]
    }
   ],
   "source": [
    "match_df['date'] = pd.to_datetime(match_df.date)\n",
    "match_df.info()"
   ]
  },
  {
   "cell_type": "markdown",
   "metadata": {},
   "source": [
    "**2.15 let's add a weekday, month and  year columns to match_df.**"
   ]
  },
  {
   "cell_type": "code",
   "execution_count": 21,
   "metadata": {},
   "outputs": [],
   "source": [
    "match_df['weekday'] = pd.DatetimeIndex(match_df.date).weekday\n",
    "match_df['month'] = pd.DatetimeIndex(match_df.date).month\n",
    "match_df['year'] = pd.DatetimeIndex(match_df.date).year"
   ]
  },
  {
   "cell_type": "markdown",
   "metadata": {},
   "source": [
    "**`weekday`, `month`, `year` columns  `added` successfully .**\n",
    "\n",
    "**2.16 Now, droping the `date` column from match_df as it's of no use now.**"
   ]
  },
  {
   "cell_type": "code",
   "execution_count": 22,
   "metadata": {},
   "outputs": [],
   "source": [
    "match_df = match_df.drop(columns = 'date', inplace = False)"
   ]
  },
  {
   "cell_type": "markdown",
   "metadata": {},
   "source": [
    "**The date column has dropped succesfully from match_df.**\n",
    "\n",
    "**2.17 Let's have a look on it's shape.**"
   ]
  },
  {
   "cell_type": "code",
   "execution_count": 23,
   "metadata": {},
   "outputs": [
    {
     "data": {
      "text/plain": [
       "(812, 12)"
      ]
     },
     "execution_count": 23,
     "metadata": {},
     "output_type": "execute_result"
    }
   ],
   "source": [
    "match_df.shape "
   ]
  },
  {
   "cell_type": "markdown",
   "metadata": {},
   "source": [
    "**2.18 Finally, the dataframe is ready for analysis and now it has `812 rows x 12 columns`. let us look at 10 random rows.**"
   ]
  },
  {
   "cell_type": "code",
   "execution_count": 24,
   "metadata": {},
   "outputs": [
    {
     "data": {
      "text/html": [
       "<div>\n",
       "<style scoped>\n",
       "    .dataframe tbody tr th:only-of-type {\n",
       "        vertical-align: middle;\n",
       "    }\n",
       "\n",
       "    .dataframe tbody tr th {\n",
       "        vertical-align: top;\n",
       "    }\n",
       "\n",
       "    .dataframe thead th {\n",
       "        text-align: right;\n",
       "    }\n",
       "</style>\n",
       "<table border=\"1\" class=\"dataframe\">\n",
       "  <thead>\n",
       "    <tr style=\"text-align: right;\">\n",
       "      <th></th>\n",
       "      <th>id</th>\n",
       "      <th>city</th>\n",
       "      <th>player_of_match</th>\n",
       "      <th>venue</th>\n",
       "      <th>team1</th>\n",
       "      <th>team2</th>\n",
       "      <th>toss_winner</th>\n",
       "      <th>toss_decision</th>\n",
       "      <th>winner</th>\n",
       "      <th>weekday</th>\n",
       "      <th>month</th>\n",
       "      <th>year</th>\n",
       "    </tr>\n",
       "  </thead>\n",
       "  <tbody>\n",
       "    <tr>\n",
       "      <th>428</th>\n",
       "      <td>733991</td>\n",
       "      <td>Bangalore</td>\n",
       "      <td>Sandeep Sharma</td>\n",
       "      <td>M Chinnaswamy Stadium</td>\n",
       "      <td>Royal Challengers Bangalore</td>\n",
       "      <td>Kings XI Punjab</td>\n",
       "      <td>Royal Challengers Bangalore</td>\n",
       "      <td>field</td>\n",
       "      <td>Kings XI Punjab</td>\n",
       "      <td>4</td>\n",
       "      <td>5</td>\n",
       "      <td>2014</td>\n",
       "    </tr>\n",
       "    <tr>\n",
       "      <th>19</th>\n",
       "      <td>336001</td>\n",
       "      <td>Chennai</td>\n",
       "      <td>V Sehwag</td>\n",
       "      <td>MA Chidambaram Stadium, Chepauk</td>\n",
       "      <td>Chennai Super Kings</td>\n",
       "      <td>Delhi Capitals</td>\n",
       "      <td>Chennai Super Kings</td>\n",
       "      <td>bat</td>\n",
       "      <td>Delhi Capitals</td>\n",
       "      <td>4</td>\n",
       "      <td>5</td>\n",
       "      <td>2008</td>\n",
       "    </tr>\n",
       "    <tr>\n",
       "      <th>31</th>\n",
       "      <td>336013</td>\n",
       "      <td>Chennai</td>\n",
       "      <td>L Balaji</td>\n",
       "      <td>MA Chidambaram Stadium, Chepauk</td>\n",
       "      <td>Chennai Super Kings</td>\n",
       "      <td>Kings XI Punjab</td>\n",
       "      <td>Kings XI Punjab</td>\n",
       "      <td>field</td>\n",
       "      <td>Chennai Super Kings</td>\n",
       "      <td>5</td>\n",
       "      <td>5</td>\n",
       "      <td>2008</td>\n",
       "    </tr>\n",
       "    <tr>\n",
       "      <th>802</th>\n",
       "      <td>1216538</td>\n",
       "      <td>Sharjah</td>\n",
       "      <td>TA Boult</td>\n",
       "      <td>Sharjah Cricket Stadium</td>\n",
       "      <td>Mumbai Indians</td>\n",
       "      <td>Sunrisers Hyderabad</td>\n",
       "      <td>Mumbai Indians</td>\n",
       "      <td>bat</td>\n",
       "      <td>Mumbai Indians</td>\n",
       "      <td>6</td>\n",
       "      <td>10</td>\n",
       "      <td>2020</td>\n",
       "    </tr>\n",
       "    <tr>\n",
       "      <th>293</th>\n",
       "      <td>548353</td>\n",
       "      <td>Kolkata</td>\n",
       "      <td>SP Narine</td>\n",
       "      <td>Eden Gardens</td>\n",
       "      <td>Kolkata Knight Riders</td>\n",
       "      <td>Pune Warriors</td>\n",
       "      <td>Kolkata Knight Riders</td>\n",
       "      <td>bat</td>\n",
       "      <td>Kolkata Knight Riders</td>\n",
       "      <td>5</td>\n",
       "      <td>5</td>\n",
       "      <td>2012</td>\n",
       "    </tr>\n",
       "    <tr>\n",
       "      <th>808</th>\n",
       "      <td>1216544</td>\n",
       "      <td>Dubai</td>\n",
       "      <td>RD Gaikwad</td>\n",
       "      <td>Dubai International Cricket Stadium</td>\n",
       "      <td>Royal Challengers Bangalore</td>\n",
       "      <td>Chennai Super Kings</td>\n",
       "      <td>Royal Challengers Bangalore</td>\n",
       "      <td>bat</td>\n",
       "      <td>Chennai Super Kings</td>\n",
       "      <td>6</td>\n",
       "      <td>10</td>\n",
       "      <td>2020</td>\n",
       "    </tr>\n",
       "    <tr>\n",
       "      <th>187</th>\n",
       "      <td>501210</td>\n",
       "      <td>Mumbai</td>\n",
       "      <td>BB McCullum</td>\n",
       "      <td>Wankhede Stadium</td>\n",
       "      <td>Mumbai Indians</td>\n",
       "      <td>Kochi Tuskers Kerala</td>\n",
       "      <td>Kochi Tuskers Kerala</td>\n",
       "      <td>field</td>\n",
       "      <td>Kochi Tuskers Kerala</td>\n",
       "      <td>4</td>\n",
       "      <td>4</td>\n",
       "      <td>2011</td>\n",
       "    </tr>\n",
       "    <tr>\n",
       "      <th>669</th>\n",
       "      <td>1136594</td>\n",
       "      <td>Indore</td>\n",
       "      <td>SA Yadav</td>\n",
       "      <td>Holkar Cricket Stadium</td>\n",
       "      <td>Kings XI Punjab</td>\n",
       "      <td>Mumbai Indians</td>\n",
       "      <td>Mumbai Indians</td>\n",
       "      <td>field</td>\n",
       "      <td>Mumbai Indians</td>\n",
       "      <td>4</td>\n",
       "      <td>5</td>\n",
       "      <td>2018</td>\n",
       "    </tr>\n",
       "    <tr>\n",
       "      <th>676</th>\n",
       "      <td>1136601</td>\n",
       "      <td>Kolkata</td>\n",
       "      <td>Ishan Kishan</td>\n",
       "      <td>Eden Gardens</td>\n",
       "      <td>Kolkata Knight Riders</td>\n",
       "      <td>Mumbai Indians</td>\n",
       "      <td>Kolkata Knight Riders</td>\n",
       "      <td>field</td>\n",
       "      <td>Mumbai Indians</td>\n",
       "      <td>2</td>\n",
       "      <td>5</td>\n",
       "      <td>2018</td>\n",
       "    </tr>\n",
       "    <tr>\n",
       "      <th>100</th>\n",
       "      <td>392225</td>\n",
       "      <td>Durban</td>\n",
       "      <td>SK Warne</td>\n",
       "      <td>Kingsmead</td>\n",
       "      <td>Mumbai Indians</td>\n",
       "      <td>Rajasthan Royals</td>\n",
       "      <td>Rajasthan Royals</td>\n",
       "      <td>bat</td>\n",
       "      <td>Rajasthan Royals</td>\n",
       "      <td>3</td>\n",
       "      <td>5</td>\n",
       "      <td>2009</td>\n",
       "    </tr>\n",
       "  </tbody>\n",
       "</table>\n",
       "</div>"
      ],
      "text/plain": [
       "          id       city player_of_match                                venue  \\\n",
       "428   733991  Bangalore  Sandeep Sharma                M Chinnaswamy Stadium   \n",
       "19    336001    Chennai        V Sehwag      MA Chidambaram Stadium, Chepauk   \n",
       "31    336013    Chennai        L Balaji      MA Chidambaram Stadium, Chepauk   \n",
       "802  1216538    Sharjah        TA Boult              Sharjah Cricket Stadium   \n",
       "293   548353    Kolkata       SP Narine                         Eden Gardens   \n",
       "808  1216544      Dubai      RD Gaikwad  Dubai International Cricket Stadium   \n",
       "187   501210     Mumbai     BB McCullum                     Wankhede Stadium   \n",
       "669  1136594     Indore        SA Yadav               Holkar Cricket Stadium   \n",
       "676  1136601    Kolkata    Ishan Kishan                         Eden Gardens   \n",
       "100   392225     Durban        SK Warne                            Kingsmead   \n",
       "\n",
       "                           team1                 team2  \\\n",
       "428  Royal Challengers Bangalore       Kings XI Punjab   \n",
       "19           Chennai Super Kings        Delhi Capitals   \n",
       "31           Chennai Super Kings       Kings XI Punjab   \n",
       "802               Mumbai Indians   Sunrisers Hyderabad   \n",
       "293        Kolkata Knight Riders         Pune Warriors   \n",
       "808  Royal Challengers Bangalore   Chennai Super Kings   \n",
       "187               Mumbai Indians  Kochi Tuskers Kerala   \n",
       "669              Kings XI Punjab        Mumbai Indians   \n",
       "676        Kolkata Knight Riders        Mumbai Indians   \n",
       "100               Mumbai Indians      Rajasthan Royals   \n",
       "\n",
       "                     toss_winner toss_decision                 winner  \\\n",
       "428  Royal Challengers Bangalore         field        Kings XI Punjab   \n",
       "19           Chennai Super Kings           bat         Delhi Capitals   \n",
       "31               Kings XI Punjab         field    Chennai Super Kings   \n",
       "802               Mumbai Indians           bat         Mumbai Indians   \n",
       "293        Kolkata Knight Riders           bat  Kolkata Knight Riders   \n",
       "808  Royal Challengers Bangalore           bat    Chennai Super Kings   \n",
       "187         Kochi Tuskers Kerala         field   Kochi Tuskers Kerala   \n",
       "669               Mumbai Indians         field         Mumbai Indians   \n",
       "676        Kolkata Knight Riders         field         Mumbai Indians   \n",
       "100             Rajasthan Royals           bat       Rajasthan Royals   \n",
       "\n",
       "     weekday  month  year  \n",
       "428        4      5  2014  \n",
       "19         4      5  2008  \n",
       "31         5      5  2008  \n",
       "802        6     10  2020  \n",
       "293        5      5  2012  \n",
       "808        6     10  2020  \n",
       "187        4      4  2011  \n",
       "669        4      5  2018  \n",
       "676        2      5  2018  \n",
       "100        3      5  2009  "
      ]
     },
     "execution_count": 24,
     "metadata": {},
     "output_type": "execute_result"
    }
   ],
   "source": [
    "match_df.sample(10)"
   ]
  },
  {
   "cell_type": "markdown",
   "metadata": {},
   "source": [
    "## `3.Exploratory Analysis and Visualization`\n",
    "\n",
    "***\n",
    "\n",
    "**Before we ask questions about the dataset, lets examine the dataset using graphs and try to understand it.**"
   ]
  },
  {
   "cell_type": "markdown",
   "metadata": {},
   "source": [
    "**3.1 Let's begin by importing`matplotlib.pyplot`, `seaborn` and `numpy`.**"
   ]
  },
  {
   "cell_type": "code",
   "execution_count": 25,
   "metadata": {},
   "outputs": [],
   "source": [
    "import seaborn as sns\n",
    "import matplotlib\n",
    "import matplotlib.pyplot as plt\n",
    "%matplotlib inline\n",
    "import numpy as np\n",
    "\n",
    "sns.set_style('darkgrid')\n",
    "matplotlib.rcParams['font.size'] = 13\n",
    "matplotlib.rcParams['figure.figsize'] = (12,6)\n",
    "matplotlib.rcParams['figure.facecolor'] = '#00000000'"
   ]
  },
  {
   "cell_type": "markdown",
   "metadata": {},
   "source": [
    "**3.2 Renaming some columns to show correct label on axes**"
   ]
  },
  {
   "cell_type": "code",
   "execution_count": 26,
   "metadata": {},
   "outputs": [],
   "source": [
    "matches_played = match_df.copy() # created a copy so that changes will not reflect in the original dataframe\n",
    "\n",
    "matches_played = matches_played.rename(columns = {'winner' : 'matches_won_by_team', \n",
    "                                                  'venue' : 'Matches_played_in_stadium',\n",
    "                                                  'city' : 'matches_played_in_city'},inplace = False) "
   ]
  },
  {
   "cell_type": "markdown",
   "metadata": {},
   "source": [
    "### `3.3 Number of matches won by a team `\n",
    "\n",
    "**Let's check, which team has won the most matches ? We can identify this using value_counts method and can visualize it by horizontal bar chart.**"
   ]
  },
  {
   "cell_type": "code",
   "execution_count": 27,
   "metadata": {},
   "outputs": [
    {
     "data": {
      "image/png": "[encoded data removed]",
      "text/plain": [
       "<Figure size 864x432 with 1 Axes>"
      ]
     },
     "metadata": {
      "needs_background": "light"
     },
     "output_type": "display_data"
    }
   ],
   "source": [
    "# counting the matches won by a team and visualizing it using horizontal barchart.\n",
    "win_count = matches_played.matches_won_by_team.value_counts() \n",
    "\n",
    "plt.ylabel('IPL Teams')\n",
    "plt.title('Total matches won by a team (2008-2019)')\n",
    "sns.barplot(x = win_count, y = win_count.index);"
   ]
  },
  {
   "cell_type": "markdown",
   "metadata": {},
   "source": [
    "**It appears, the title of most won matches is with `Mumabai Indians` while  `Chennai Super Kings` and `Kolkata Knight Riders`are runners.**"
   ]
  },
  {
   "cell_type": "markdown",
   "metadata": {},
   "source": [
    "### `3.4 Number of matches played per CITY `\n",
    "\n",
    "**The city and stadiums are also crucial factors to look at , how the distribution of matches played varies with city and stadium.This can be done using barcharts.**"
   ]
  },
  {
   "cell_type": "code",
   "execution_count": 28,
   "metadata": {},
   "outputs": [
    {
     "data": {
      "image/png": "[encoded data removed]",
      "text/plain": [
       "<Figure size 864x432 with 1 Axes>"
      ]
     },
     "metadata": {
      "needs_background": "light"
     },
     "output_type": "display_data"
    }
   ],
   "source": [
    "city_count = matches_played.matches_played_in_city.value_counts() \n",
    "\n",
    "plt.xticks(rotation = 75)\n",
    "plt.title('Total Matches played in a city')\n",
    "plt.xlabel('Cities')\n",
    "plt.ylabel('Matches Played')\n",
    "\n",
    "sns.barplot(x = city_count.index, y= city_count);"
   ]
  },
  {
   "cell_type": "markdown",
   "metadata": {},
   "source": [
    "**Most of the matches had been played at Mumbai followed by kolkata and Delhi.**\n",
    "\n",
    "### `3.5 Let check the distribution for the top 15 stadiums.`"
   ]
  },
  {
   "cell_type": "code",
   "execution_count": 29,
   "metadata": {},
   "outputs": [
    {
     "data": {
      "image/png": "[encoded data removed]",
      "text/plain": [
       "<Figure size 864x432 with 1 Axes>"
      ]
     },
     "metadata": {
      "needs_background": "light"
     },
     "output_type": "display_data"
    }
   ],
   "source": [
    "stadium_count = matches_played.Matches_played_in_stadium.value_counts().head(15) \n",
    "plt.title('Top 15 Stadiums')\n",
    "plt.ylabel('Stadiums')\n",
    "plt.xlabel('Matches Played')\n",
    "\n",
    "sns.barplot(x = stadium_count, y= stadium_count.index);"
   ]
  },
  {
   "cell_type": "markdown",
   "metadata": {},
   "source": [
    "**`Eden Garden`, `Feroz Shah Kotla` and `Wankhede Stadium` are top 3 IPL stadiums.** "
   ]
  },
  {
   "cell_type": "markdown",
   "metadata": {},
   "source": [
    "### `3.6 Variation of matches played with year `\n",
    "\n",
    "**Let's check the variation of matches in different years using a Histogram.**"
   ]
  },
  {
   "cell_type": "code",
   "execution_count": 30,
   "metadata": {},
   "outputs": [
    {
     "data": {
      "image/png": "[encoded data removed]",
      "text/plain": [
       "<Figure size 864x432 with 1 Axes>"
      ]
     },
     "metadata": {
      "needs_background": "light"
     },
     "output_type": "display_data"
    }
   ],
   "source": [
    "plt.xlabel('Year')\n",
    "plt.ylabel('Number of Matches Played')\n",
    "plt.title('Matches played per year (2008-2019)')\n",
    "plt.hist(match_df.year, bins = np.arange(2008,2022), color = 'b');"
   ]
  },
  {
   "cell_type": "markdown",
   "metadata": {},
   "source": [
    "**It appears that the matches played in years `2011`, `2012`, `2013` are higher than the matches played in rest years.**\n",
    "\n",
    "###  `3.7 Let's have a look on variation of matches with month using horizontal bar chart.`"
   ]
  },
  {
   "cell_type": "code",
   "execution_count": 31,
   "metadata": {},
   "outputs": [
    {
     "data": {
      "image/png": "[encoded data removed]",
      "text/plain": [
       "<Figure size 864x432 with 1 Axes>"
      ]
     },
     "metadata": {
      "needs_background": "light"
     },
     "output_type": "display_data"
    }
   ],
   "source": [
    "plt.xlabel('Month')\n",
    "plt.ylabel('Number of Matches Played')\n",
    "plt.title('Matches played in month (2008-2020)')\n",
    "sns.countplot(y = match_df.month);"
   ]
  },
  {
   "cell_type": "markdown",
   "metadata": {},
   "source": [
    "In April and May majority of the matches had been played and very few in March, June.Due to covid, this year matches were played abroad in September, October and November."
   ]
  },
  {
   "cell_type": "markdown",
   "metadata": {},
   "source": [
    "\n",
    "***"
   ]
  },
  {
   "cell_type": "markdown",
   "metadata": {},
   "source": [
    "## `4. Asking and Answering Questions`\n",
    "\n",
    "**We've already gained several insights about the matches played by teams,location and duration by exploring individual columns of the dataset. Let's ask some specific questions and try to answer them using data frame operations and visualizations.**\n"
   ]
  },
  {
   "cell_type": "markdown",
   "metadata": {},
   "source": [
    "***"
   ]
  },
  {
   "cell_type": "markdown",
   "metadata": {},
   "source": [
    "### `4.Q1: How many times the toss winning team also wins the match ?`\n",
    "---"
   ]
  },
  {
   "cell_type": "code",
   "execution_count": 32,
   "metadata": {},
   "outputs": [],
   "source": [
    " # total tosses won by a team\n",
    "total_tosses_won = match_df.toss_winner.value_counts()"
   ]
  },
  {
   "cell_type": "code",
   "execution_count": 33,
   "metadata": {},
   "outputs": [],
   "source": [
    "# we used groupby method of dataframe to find the toss winning team and in that how many times which team has won the team.\n",
    "matches_won = match_df.groupby('toss_winner')[ 'winner'].value_counts()"
   ]
  },
  {
   "cell_type": "markdown",
   "metadata": {},
   "source": [
    "for loop will find : How many times toss winning team also wins the match and then we'll save it to total_matches_won as series datatype using `pd.Series`"
   ]
  },
  {
   "cell_type": "code",
   "execution_count": 34,
   "metadata": {},
   "outputs": [],
   "source": [
    "toss_won_team = []\n",
    "match_won = []\n",
    "for team_name in total_tosses_won.index : # total_tosses_won.index has names of winning team as index\n",
    "    toss_won_team.append(team_name)\n",
    "    match_won.append(matches_won[team_name][team_name])  \n",
    "# matches_won has winning count for toss winnig team and also of teams whom it lost. we'll extract only its winning count.\n",
    "\n",
    "total_matches_won = pd.Series( match_won, index = toss_won_team, name = 'toss_match_win')"
   ]
  },
  {
   "cell_type": "markdown",
   "metadata": {},
   "source": [
    "Let's add total_matches_won to total_tosses_won at column side using `pd.concat`"
   ]
  },
  {
   "cell_type": "code",
   "execution_count": 35,
   "metadata": {},
   "outputs": [],
   "source": [
    "toss_win_match_win = pd.concat([total_tosses_won, total_matches_won], axis=1)\n",
    "toss_win_match_win['percentage_win'] = np.ceil((toss_win_match_win.toss_match_win / toss_win_match_win.toss_winner)*100)"
   ]
  },
  {
   "cell_type": "code",
   "execution_count": 36,
   "metadata": {},
   "outputs": [
    {
     "data": {
      "image/png": "[encoded data removed]",
      "text/plain": [
       "<Figure size 1152x432 with 1 Axes>"
      ]
     },
     "metadata": {
      "needs_background": "light"
     },
     "output_type": "display_data"
    }
   ],
   "source": [
    "plt.figure(figsize=(16, 6))\n",
    "plt.title('How many matches toss winning team wins ?')\n",
    "plt.xlabel('Teams')\n",
    "plt.ylabel('count')\n",
    "\n",
    "x = toss_win_match_win.index\n",
    "w = 0.2\n",
    "bar1 = np.arange(len(x))\n",
    "bar2 = [w+i for i in bar1] # setting locations of bars\n",
    "bar3 = [ w+j for j in bar2]\n",
    "\n",
    "plt.xticks(bar1 , x, rotation = 75) # teams name will be diplayed at bar one with 75 degree rotation\n",
    "\n",
    "plt.bar(bar1, toss_win_match_win.toss_winner, w, label = 'toss win' )\n",
    "plt.bar(bar2, toss_win_match_win.toss_match_win, w, label = 'match win' ) # ploting\n",
    "plt.bar(bar3, toss_win_match_win.percentage_win, w, label = '% win' )\n",
    "plt.legend();\n"
   ]
  },
  {
   "cell_type": "markdown",
   "metadata": {},
   "source": [
    "**It appears when Chennai Super Kings wins a toss, there is 63% chance of winning that match too, followed by Mumbai Indians and Kolkata Knight Riders by ignoring the analysis of former teams outcome.**\n",
    "\n",
    "***"
   ]
  },
  {
   "cell_type": "markdown",
   "metadata": {},
   "source": [
    "### `4.Q2: Best Boundary hitter ?`\n",
    "\n",
    "---\n",
    "\n",
    "This question can be solved by using `value_counts` method. Let's look at top 15 boundary hitters and visualize it using horizontal bar chart."
   ]
  },
  {
   "cell_type": "code",
   "execution_count": 37,
   "metadata": {},
   "outputs": [],
   "source": [
    "# labelling batsman column as Boundaries to show correct x label.\n",
    "ball_df_copy = ball_df.rename(columns = {'batsman' : 'Boundaries'}, inplace = False)\n",
    "\n",
    "boundary_hitters = ball_df_copy[ball_df_copy.batsman_runs == 4].Boundaries.value_counts().head(15) "
   ]
  },
  {
   "cell_type": "code",
   "execution_count": 38,
   "metadata": {},
   "outputs": [
    {
     "data": {
      "image/png": "[encoded data removed]",
      "text/plain": [
       "<Figure size 864x432 with 1 Axes>"
      ]
     },
     "metadata": {
      "needs_background": "light"
     },
     "output_type": "display_data"
    }
   ],
   "source": [
    "plt.ylabel('Boundary_Hitters')\n",
    "plt.title('Top 15 Boundary Hitters (2008-2020)')\n",
    "sns.barplot(y = boundary_hitters.index, x = boundary_hitters);"
   ]
  },
  {
   "cell_type": "markdown",
   "metadata": {},
   "source": [
    "**S Dhawan is the best boundary hitter followed by DA Warne, V Kholi, SK Raina, G Gambhir if total all boundaries from 2008-2020 is considered.**"
   ]
  },
  {
   "cell_type": "markdown",
   "metadata": {},
   "source": [
    "### `4.Q3: Which is the luckiest Stadium for Mumbai Indians ? `\n",
    "\n",
    "This question can be solved by using `value_counts` method. Let's look at top 15 boundary hitters and visualize it using horizontal bar chart."
   ]
  },
  {
   "cell_type": "code",
   "execution_count": 39,
   "metadata": {},
   "outputs": [
    {
     "data": {
      "image/png": "[encoded data removed]",
      "text/plain": [
       "<Figure size 864x432 with 1 Axes>"
      ]
     },
     "metadata": {
      "needs_background": "light"
     },
     "output_type": "display_data"
    }
   ],
   "source": [
    "# labelling venue column as Matches_Won to show correct x label.\n",
    "match_df_copy = match_df.rename(columns = {'venue' : 'Matches_Won'}, inplace = False)\n",
    "\n",
    "mumbai_indians = match_df_copy[match_df_copy.winner == 'Mumbai Indians'].Matches_Won.value_counts().head(5)\n",
    "\n",
    "plt.ylabel('Stadiums')\n",
    "plt.title('Mumbai Indians luckiest stadiums')\n",
    "sns.barplot(y = mumbai_indians.index, x = mumbai_indians);"
   ]
  },
  {
   "cell_type": "markdown",
   "metadata": {},
   "source": [
    "**It appears, Wankhede Stadium is luckiest stadium for Mumbai Indians.**"
   ]
  },
  {
   "cell_type": "markdown",
   "metadata": {},
   "source": [
    "### `4.Q4: Who has taken the highest number of wickets ?`\n",
    "\n",
    "This question can be solved by using `value_counts` method. Let's look at top 15 boundary hitters and visualize it using horizontal bar chart."
   ]
  },
  {
   "cell_type": "code",
   "execution_count": 40,
   "metadata": {},
   "outputs": [
    {
     "data": {
      "image/png": "[encoded data removed]",
      "text/plain": [
       "<Figure size 864x432 with 1 Axes>"
      ]
     },
     "metadata": {
      "needs_background": "light"
     },
     "output_type": "display_data"
    }
   ],
   "source": [
    "# labelling bowler column as wickets to show correct x label.\n",
    "ball_df_copy = ball_df.rename(columns = {'bowler' : 'wickets'}, inplace = False)\n",
    "\n",
    "wicket = ball_df_copy[ball_df_copy.is_wicket == 1].wickets.value_counts().head(10)\n",
    "\n",
    "plt.ylabel('Bowlers')\n",
    "plt.title('Top 10 Bowlers (2008-2020)')\n",
    "sns.barplot(y = wicket.index, x = wicket);"
   ]
  },
  {
   "cell_type": "markdown",
   "metadata": {},
   "source": [
    "**SL Malinga is the best bowler followed by DJ Bravo and A Mishra.**"
   ]
  },
  {
   "cell_type": "code",
   "execution_count": 41,
   "metadata": {},
   "outputs": [
    {
     "data": {
      "text/html": [
       "<div>\n",
       "<style scoped>\n",
       "    .dataframe tbody tr th:only-of-type {\n",
       "        vertical-align: middle;\n",
       "    }\n",
       "\n",
       "    .dataframe tbody tr th {\n",
       "        vertical-align: top;\n",
       "    }\n",
       "\n",
       "    .dataframe thead th {\n",
       "        text-align: right;\n",
       "    }\n",
       "</style>\n",
       "<table border=\"1\" class=\"dataframe\">\n",
       "  <thead>\n",
       "    <tr style=\"text-align: right;\">\n",
       "      <th></th>\n",
       "      <th>batting_team</th>\n",
       "      <th>bowling_team</th>\n",
       "      <th>batsman</th>\n",
       "      <th>bowler</th>\n",
       "      <th>batsman_runs</th>\n",
       "      <th>is_wicket</th>\n",
       "    </tr>\n",
       "    <tr>\n",
       "      <th>id</th>\n",
       "      <th></th>\n",
       "      <th></th>\n",
       "      <th></th>\n",
       "      <th></th>\n",
       "      <th></th>\n",
       "      <th></th>\n",
       "    </tr>\n",
       "  </thead>\n",
       "  <tbody>\n",
       "    <tr>\n",
       "      <th>335982</th>\n",
       "      <td>Kolkata Knight Riders</td>\n",
       "      <td>Royal Challengers Bangalore</td>\n",
       "      <td>RT Ponting</td>\n",
       "      <td>AA Noffke</td>\n",
       "      <td>1</td>\n",
       "      <td>0</td>\n",
       "    </tr>\n",
       "    <tr>\n",
       "      <th>335982</th>\n",
       "      <td>Kolkata Knight Riders</td>\n",
       "      <td>Royal Challengers Bangalore</td>\n",
       "      <td>BB McCullum</td>\n",
       "      <td>AA Noffke</td>\n",
       "      <td>1</td>\n",
       "      <td>0</td>\n",
       "    </tr>\n",
       "    <tr>\n",
       "      <th>335982</th>\n",
       "      <td>Kolkata Knight Riders</td>\n",
       "      <td>Royal Challengers Bangalore</td>\n",
       "      <td>BB McCullum</td>\n",
       "      <td>Z Khan</td>\n",
       "      <td>0</td>\n",
       "      <td>0</td>\n",
       "    </tr>\n",
       "    <tr>\n",
       "      <th>335982</th>\n",
       "      <td>Kolkata Knight Riders</td>\n",
       "      <td>Royal Challengers Bangalore</td>\n",
       "      <td>BB McCullum</td>\n",
       "      <td>Z Khan</td>\n",
       "      <td>1</td>\n",
       "      <td>0</td>\n",
       "    </tr>\n",
       "    <tr>\n",
       "      <th>335982</th>\n",
       "      <td>Kolkata Knight Riders</td>\n",
       "      <td>Royal Challengers Bangalore</td>\n",
       "      <td>RT Ponting</td>\n",
       "      <td>Z Khan</td>\n",
       "      <td>1</td>\n",
       "      <td>0</td>\n",
       "    </tr>\n",
       "    <tr>\n",
       "      <th>...</th>\n",
       "      <td>...</td>\n",
       "      <td>...</td>\n",
       "      <td>...</td>\n",
       "      <td>...</td>\n",
       "      <td>...</td>\n",
       "      <td>...</td>\n",
       "    </tr>\n",
       "    <tr>\n",
       "      <th>1237181</th>\n",
       "      <td>Delhi Capitals</td>\n",
       "      <td>Mumbai Indians</td>\n",
       "      <td>RR Pant</td>\n",
       "      <td>NM Coulter-Nile</td>\n",
       "      <td>0</td>\n",
       "      <td>0</td>\n",
       "    </tr>\n",
       "    <tr>\n",
       "      <th>1237181</th>\n",
       "      <td>Delhi Capitals</td>\n",
       "      <td>Mumbai Indians</td>\n",
       "      <td>RR Pant</td>\n",
       "      <td>NM Coulter-Nile</td>\n",
       "      <td>1</td>\n",
       "      <td>0</td>\n",
       "    </tr>\n",
       "    <tr>\n",
       "      <th>1237181</th>\n",
       "      <td>Delhi Capitals</td>\n",
       "      <td>Mumbai Indians</td>\n",
       "      <td>RR Pant</td>\n",
       "      <td>KH Pandya</td>\n",
       "      <td>0</td>\n",
       "      <td>0</td>\n",
       "    </tr>\n",
       "    <tr>\n",
       "      <th>1237181</th>\n",
       "      <td>Delhi Capitals</td>\n",
       "      <td>Mumbai Indians</td>\n",
       "      <td>RR Pant</td>\n",
       "      <td>KH Pandya</td>\n",
       "      <td>1</td>\n",
       "      <td>0</td>\n",
       "    </tr>\n",
       "    <tr>\n",
       "      <th>1237181</th>\n",
       "      <td>Delhi Capitals</td>\n",
       "      <td>Mumbai Indians</td>\n",
       "      <td>SS Iyer</td>\n",
       "      <td>KH Pandya</td>\n",
       "      <td>1</td>\n",
       "      <td>0</td>\n",
       "    </tr>\n",
       "  </tbody>\n",
       "</table>\n",
       "<p>193468 rows × 6 columns</p>\n",
       "</div>"
      ],
      "text/plain": [
       "                  batting_team                 bowling_team      batsman  \\\n",
       "id                                                                         \n",
       "335982   Kolkata Knight Riders  Royal Challengers Bangalore   RT Ponting   \n",
       "335982   Kolkata Knight Riders  Royal Challengers Bangalore  BB McCullum   \n",
       "335982   Kolkata Knight Riders  Royal Challengers Bangalore  BB McCullum   \n",
       "335982   Kolkata Knight Riders  Royal Challengers Bangalore  BB McCullum   \n",
       "335982   Kolkata Knight Riders  Royal Challengers Bangalore   RT Ponting   \n",
       "...                        ...                          ...          ...   \n",
       "1237181         Delhi Capitals               Mumbai Indians      RR Pant   \n",
       "1237181         Delhi Capitals               Mumbai Indians      RR Pant   \n",
       "1237181         Delhi Capitals               Mumbai Indians      RR Pant   \n",
       "1237181         Delhi Capitals               Mumbai Indians      RR Pant   \n",
       "1237181         Delhi Capitals               Mumbai Indians      SS Iyer   \n",
       "\n",
       "                  bowler  batsman_runs  is_wicket  \n",
       "id                                                 \n",
       "335982         AA Noffke             1          0  \n",
       "335982         AA Noffke             1          0  \n",
       "335982            Z Khan             0          0  \n",
       "335982            Z Khan             1          0  \n",
       "335982            Z Khan             1          0  \n",
       "...                  ...           ...        ...  \n",
       "1237181  NM Coulter-Nile             0          0  \n",
       "1237181  NM Coulter-Nile             1          0  \n",
       "1237181        KH Pandya             0          0  \n",
       "1237181        KH Pandya             1          0  \n",
       "1237181        KH Pandya             1          0  \n",
       "\n",
       "[193468 rows x 6 columns]"
      ]
     },
     "execution_count": 41,
     "metadata": {},
     "output_type": "execute_result"
    }
   ],
   "source": [
    "ball_df"
   ]
  },
  {
   "cell_type": "markdown",
   "metadata": {},
   "source": [
    "###  4.Q5: Who has  won the maximum number of matches when played between Mumbai Indians and Chennai Super Kings ?\n",
    "\n",
    "This problem can be solved using and (`&`), or (`|`) operators and then counting teams using `value_counts` method"
   ]
  },
  {
   "cell_type": "code",
   "execution_count": 42,
   "metadata": {},
   "outputs": [
    {
     "data": {
      "text/plain": [
       "Mumbai Indians         18\n",
       "Chennai Super Kings    12\n",
       "Name: winner, dtype: int64"
      ]
     },
     "execution_count": 42,
     "metadata": {},
     "output_type": "execute_result"
    }
   ],
   "source": [
    "mi_csk_1 = (match_df.team1 == 'Chennai Super Kings') & (match_df.team2 == 'Mumbai Indians')  \n",
    "mi_csk_2 = (match_df.team1 == 'Mumbai Indians') & (match_df.team2 == 'Chennai Super Kings') \n",
    "mi_csk =  match_df[mi_csk_1 | mi_csk_2].winner.value_counts()\n",
    "mi_csk"
   ]
  },
  {
   "cell_type": "markdown",
   "metadata": {},
   "source": [
    "Let's visualize it using barchart."
   ]
  },
  {
   "cell_type": "code",
   "execution_count": 43,
   "metadata": {},
   "outputs": [
    {
     "data": {
      "image/png": "[encoded data removed]",
      "text/plain": [
       "<Figure size 864x432 with 1 Axes>"
      ]
     },
     "metadata": {
      "needs_background": "light"
     },
     "output_type": "display_data"
    }
   ],
   "source": [
    "sns.barplot(x = mi_csk.index, y = mi_csk);"
   ]
  },
  {
   "cell_type": "markdown",
   "metadata": {},
   "source": [
    "**Mumbai Indians dominated the Chennai Super Kings**"
   ]
  },
  {
   "cell_type": "markdown",
   "metadata": {},
   "source": [
    "### `4.Q6: Who has became  player of the match for maximum number of times ? `\n",
    "\n",
    "This question can be solved by using `value_counts` method. Let's look at top 15 boundary hitters and visualize it using horizontal bar chart."
   ]
  },
  {
   "cell_type": "code",
   "execution_count": 44,
   "metadata": {},
   "outputs": [
    {
     "data": {
      "image/png": "[encoded data removed]",
      "text/plain": [
       "<Figure size 864x432 with 1 Axes>"
      ]
     },
     "metadata": {
      "needs_background": "light"
     },
     "output_type": "display_data"
    }
   ],
   "source": [
    "# labelling player_of_match column as player_of_match_title to show correct x label.\n",
    "match_df_copy = match_df.rename(columns = {'player_of_match' : 'player_of_match_title'}, inplace = False)\n",
    "\n",
    "count = match_df_copy.player_of_match_title.value_counts().head(10)\n",
    "\n",
    "plt.ylabel('player_of_match')\n",
    "plt.title('Top 10 Holders For Player Of The Match title')\n",
    "sns.barplot(y = count.index, x = count);"
   ]
  },
  {
   "cell_type": "markdown",
   "metadata": {},
   "source": [
    "**AB de villiers and CH Gayle are top two players of the match.**"
   ]
  },
  {
   "cell_type": "markdown",
   "metadata": {},
   "source": [
    "### ` 4.Q.7  Who are the top 10 boundary hitters of 2020 ?`"
   ]
  },
  {
   "cell_type": "markdown",
   "metadata": {},
   "source": [
    "Let's find the matches played  for 2020 from match_df. This can be done by slicing match ids for year 2020."
   ]
  },
  {
   "cell_type": "code",
   "execution_count": 45,
   "metadata": {},
   "outputs": [
    {
     "data": {
      "text/plain": [
       "756    1216492\n",
       "757    1216493\n",
       "758    1216494\n",
       "759    1216495\n",
       "760    1216496\n",
       "761    1216497\n",
       "762    1216498\n",
       "763    1216499\n",
       "764    1216500\n",
       "765    1216501\n",
       "766    1216502\n",
       "767    1216503\n",
       "768    1216504\n",
       "769    1216505\n",
       "770    1216506\n",
       "771    1216507\n",
       "772    1216508\n",
       "773    1216509\n",
       "774    1216510\n",
       "775    1216511\n",
       "776    1216512\n",
       "777    1216513\n",
       "778    1216514\n",
       "779    1216515\n",
       "780    1216516\n",
       "781    1216517\n",
       "782    1216518\n",
       "783    1216519\n",
       "784    1216520\n",
       "785    1216521\n",
       "786    1216522\n",
       "787    1216523\n",
       "788    1216524\n",
       "789    1216525\n",
       "790    1216526\n",
       "791    1216527\n",
       "792    1216528\n",
       "793    1216529\n",
       "794    1216530\n",
       "795    1216531\n",
       "796    1216532\n",
       "797    1216533\n",
       "798    1216534\n",
       "799    1216535\n",
       "800    1216536\n",
       "801    1216537\n",
       "802    1216538\n",
       "803    1216539\n",
       "804    1216540\n",
       "805    1216541\n",
       "806    1216542\n",
       "807    1216543\n",
       "808    1216544\n",
       "809    1216545\n",
       "810    1216546\n",
       "811    1216547\n",
       "812    1237177\n",
       "813    1237178\n",
       "814    1237180\n",
       "815    1237181\n",
       "Name: id, dtype: int64"
      ]
     },
     "execution_count": 45,
     "metadata": {},
     "output_type": "execute_result"
    }
   ],
   "source": [
    "match_2020 = match_df[match_df.year == 2020].id\n",
    "match_2020"
   ]
  },
  {
   "cell_type": "markdown",
   "metadata": {},
   "source": [
    "Match ids for 2020 is in range of `1216492` - `1237181`. Now, let's extract  batsman and batsman_run from ball_df for id_2020  using `.loc` method to runs_2020."
   ]
  },
  {
   "cell_type": "code",
   "execution_count": 46,
   "metadata": {},
   "outputs": [],
   "source": [
    "runs_2020 = ball_df.loc [1216492 :, ['batsman', 'batsman_runs']]"
   ]
  },
  {
   "cell_type": "markdown",
   "metadata": {},
   "source": [
    "Now, let extract top 10 boundary hitters using `value_counts` method"
   ]
  },
  {
   "cell_type": "code",
   "execution_count": 47,
   "metadata": {},
   "outputs": [],
   "source": [
    "# labelling batsman column as Boundaries to show correct x label.\n",
    "runs_2020 = runs_2020.rename(columns = {'batsman' : 'Boundaries'}, inplace = False)\n",
    "boundary_hitters = runs_2020[runs_2020.batsman_runs == 4].Boundaries.value_counts().head(10)"
   ]
  },
  {
   "cell_type": "markdown",
   "metadata": {},
   "source": [
    "Let's visualize this using a barchart."
   ]
  },
  {
   "cell_type": "code",
   "execution_count": 48,
   "metadata": {},
   "outputs": [
    {
     "data": {
      "image/png": "[encoded data removed]",
      "text/plain": [
       "<Figure size 864x432 with 1 Axes>"
      ]
     },
     "metadata": {
      "needs_background": "light"
     },
     "output_type": "display_data"
    }
   ],
   "source": [
    "plt.ylabel('Batsmans')\n",
    "plt.title('Top 10 Boundary Hitters of IPL - 2020')\n",
    "sns.barplot(y = boundary_hitters.index, x = boundary_hitters);"
   ]
  },
  {
   "cell_type": "markdown",
   "metadata": {},
   "source": [
    "**S Dhawan had hit maximum boundaries in IPL-2020.**"
   ]
  },
  {
   "cell_type": "markdown",
   "metadata": {},
   "source": [
    "## `5.Inferences and Conclusion`\n",
    "\n",
    "Here's the summary of inferences drawn from the analysis of IPL (2008-2020) dataset :\n",
    "\n",
    ">1.  **Highest number of the matches, won by Mumbai Indians  while the Chennai Super Kings, Kolkata Knight Riders are runners.**\n",
    ">2.  **Majority of the matches, played at Mumbai followed by kolkata and Delhi.**\n",
    ">3.  **Eden Garden, Feroz Shah Kotla and Wankhede Stadium are stadiums were most of IPL matches had been played.**\n",
    ">4.  **Number of matches played in years 2011, 2012, 2013 are higher than the matches played in remaining years which are almost same.**\n",
    ">5.  **Every year, majority of IPL matches are held in the months of April and May with few matches in the months of March and June.Due to covid, this year matches were played abroad in September, October and November.**\n",
    ">6.  **when Chennai Super Kings wins a toss, there is 63% chance of winning that match too**\n",
    ">7.  **S Dhawan is the best boundary hitter followed by DA Warne, V Kholi, SK Raina, G Gambhir.**\n",
    ">8.  **Wankhede Stadium is luckiest stadium for Mumbai Indians.**\n",
    ">9.  **SL Malinga is the best bowler followed by DJ Bravo and A Mishra.**\n",
    ">10. **AB de villiers and CH Gayle are top two players of the match.**\n",
    ">11. **S Dhawan had hit maximum boundaries in IPL-2020.**"
   ]
  },
  {
   "cell_type": "markdown",
   "metadata": {},
   "source": [
    "## `6.References`\n",
    "\n",
    "\n",
    "*  https://jovian.ai/learn/data-analysis-with-python-zero-to-pandas\n",
    "*  https://stackoverflow.com/questions/36921951/truth-value-of-a-series-is-ambiguous-use-a-empty-a-bool-a-item-a-any-o\n",
    "*  https://stackoverflow.com/questions/36319573/argument-of-type-numpy-int64-is-not-iterable\n",
    "*  https://www.youtube.com/watch?v=ZjQCPMO7LBE\n",
    "*  https://pandas.pydata.org/pandas-docs/stable/reference/api/pandas.DataFrame.replace.html"
   ]
  },
  {
   "cell_type": "code",
   "execution_count": 1,
   "metadata": {},
   "outputs": [],
   "source": [
    "import jovian"
   ]
  },
  {
   "cell_type": "code",
   "execution_count": null,
   "metadata": {},
   "outputs": [],
   "source": []
  }
 ],
 "metadata": {
  "language_info": {
   "codemirror_mode": {
    "name": "ipython",
    "version": 3
   },
   "file_extension": ".py",
   "mimetype": "text/x-python",
   "name": "python",
   "nbconvert_exporter": "python",
   "pygments_lexer": "ipython3",
   "version": "3.8.6"
  }
 },
 "nbformat": 4,
 "nbformat_minor": 4
}